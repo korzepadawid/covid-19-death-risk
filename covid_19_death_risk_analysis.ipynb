{
  "cells": [
    {
      "cell_type": "markdown",
      "metadata": {
        "id": "QPV83PjGbqJg"
      },
      "source": [
        "# covid-19 death risk analysis \n",
        "The dataset was provided by the Mexican government. This dataset contains an enormous number of anonymized patient-related information including pre-conditions. The raw dataset consists of 21 unique features and 1,048,576 unique patients. In the Boolean features, 1 means \"yes\" and 2 means \"no\". values as 97 and 99 are missing data.\n",
        "\n",
        "Downloaded from [Kaggle.com](https://www.kaggle.com/datasets/meirnizri/covid19-dataset).\n"
      ]
    },
    {
      "cell_type": "code",
      "execution_count": 370,
      "metadata": {
        "id": "RGhSYOKKbOuT"
      },
      "outputs": [],
      "source": [
        "import numpy as np\n",
        "import pandas as pd\n",
        "import matplotlib.pyplot as plt\n",
        "import seaborn as sns\n",
        "from sklearn.model_selection import train_test_split\n",
        "from sklearn.pipeline import Pipeline\n",
        "from sklearn.preprocessing import StandardScaler\n",
        "from sklearn.linear_model import LogisticRegression\n",
        "from sklearn.metrics import precision_recall_fscore_support\n",
        "from sklearn.linear_model import RidgeClassifier\n",
        "from sklearn.naive_bayes import GaussianNB, BernoulliNB\n",
        "from sklearn.neighbors import KNeighborsClassifier\n",
        "from sklearn.tree import DecisionTreeClassifier\n",
        "from sklearn.ensemble import RandomForestClassifier, GradientBoostingClassifier\n",
        "from sklearn.svm import SVC"
      ]
    },
    {
      "cell_type": "code",
      "execution_count": 275,
      "metadata": {
        "id": "r_fD4GQmbY73"
      },
      "outputs": [],
      "source": [
        "df = pd.read_csv('covid.csv')"
      ]
    },
    {
      "cell_type": "code",
      "execution_count": 276,
      "metadata": {
        "id": "FfovLlP6bewn",
        "colab": {
          "base_uri": "https://localhost:8080/",
          "height": 236
        },
        "outputId": "16ee6e26-92fe-42cd-e37f-e75900d61c00"
      },
      "outputs": [
        {
          "output_type": "execute_result",
          "data": {
            "text/plain": [
              "   USMER  MEDICAL_UNIT  SEX  PATIENT_TYPE   DATE_DIED  INTUBED  PNEUMONIA  \\\n",
              "0      2             1    1             1  03/05/2020       97          1   \n",
              "1      2             1    2             1  03/06/2020       97          1   \n",
              "2      2             1    2             2  09/06/2020        1          2   \n",
              "3      2             1    1             1  12/06/2020       97          2   \n",
              "4      2             1    2             1  21/06/2020       97          2   \n",
              "\n",
              "   AGE  PREGNANT  DIABETES  ...  ASTHMA  INMSUPR  HIPERTENSION  OTHER_DISEASE  \\\n",
              "0   65         2         2  ...       2        2             1              2   \n",
              "1   72        97         2  ...       2        2             1              2   \n",
              "2   55        97         1  ...       2        2             2              2   \n",
              "3   53         2         2  ...       2        2             2              2   \n",
              "4   68        97         1  ...       2        2             1              2   \n",
              "\n",
              "   CARDIOVASCULAR  OBESITY  RENAL_CHRONIC  TOBACCO  CLASIFFICATION_FINAL  ICU  \n",
              "0               2        2              2        2                     3   97  \n",
              "1               2        1              1        2                     5   97  \n",
              "2               2        2              2        2                     3    2  \n",
              "3               2        2              2        2                     7   97  \n",
              "4               2        2              2        2                     3   97  \n",
              "\n",
              "[5 rows x 21 columns]"
            ],
            "text/html": [
              "\n",
              "  <div id=\"df-9d1a0cec-017b-45de-ac5b-49cad0a23f03\">\n",
              "    <div class=\"colab-df-container\">\n",
              "      <div>\n",
              "<style scoped>\n",
              "    .dataframe tbody tr th:only-of-type {\n",
              "        vertical-align: middle;\n",
              "    }\n",
              "\n",
              "    .dataframe tbody tr th {\n",
              "        vertical-align: top;\n",
              "    }\n",
              "\n",
              "    .dataframe thead th {\n",
              "        text-align: right;\n",
              "    }\n",
              "</style>\n",
              "<table border=\"1\" class=\"dataframe\">\n",
              "  <thead>\n",
              "    <tr style=\"text-align: right;\">\n",
              "      <th></th>\n",
              "      <th>USMER</th>\n",
              "      <th>MEDICAL_UNIT</th>\n",
              "      <th>SEX</th>\n",
              "      <th>PATIENT_TYPE</th>\n",
              "      <th>DATE_DIED</th>\n",
              "      <th>INTUBED</th>\n",
              "      <th>PNEUMONIA</th>\n",
              "      <th>AGE</th>\n",
              "      <th>PREGNANT</th>\n",
              "      <th>DIABETES</th>\n",
              "      <th>...</th>\n",
              "      <th>ASTHMA</th>\n",
              "      <th>INMSUPR</th>\n",
              "      <th>HIPERTENSION</th>\n",
              "      <th>OTHER_DISEASE</th>\n",
              "      <th>CARDIOVASCULAR</th>\n",
              "      <th>OBESITY</th>\n",
              "      <th>RENAL_CHRONIC</th>\n",
              "      <th>TOBACCO</th>\n",
              "      <th>CLASIFFICATION_FINAL</th>\n",
              "      <th>ICU</th>\n",
              "    </tr>\n",
              "  </thead>\n",
              "  <tbody>\n",
              "    <tr>\n",
              "      <th>0</th>\n",
              "      <td>2</td>\n",
              "      <td>1</td>\n",
              "      <td>1</td>\n",
              "      <td>1</td>\n",
              "      <td>03/05/2020</td>\n",
              "      <td>97</td>\n",
              "      <td>1</td>\n",
              "      <td>65</td>\n",
              "      <td>2</td>\n",
              "      <td>2</td>\n",
              "      <td>...</td>\n",
              "      <td>2</td>\n",
              "      <td>2</td>\n",
              "      <td>1</td>\n",
              "      <td>2</td>\n",
              "      <td>2</td>\n",
              "      <td>2</td>\n",
              "      <td>2</td>\n",
              "      <td>2</td>\n",
              "      <td>3</td>\n",
              "      <td>97</td>\n",
              "    </tr>\n",
              "    <tr>\n",
              "      <th>1</th>\n",
              "      <td>2</td>\n",
              "      <td>1</td>\n",
              "      <td>2</td>\n",
              "      <td>1</td>\n",
              "      <td>03/06/2020</td>\n",
              "      <td>97</td>\n",
              "      <td>1</td>\n",
              "      <td>72</td>\n",
              "      <td>97</td>\n",
              "      <td>2</td>\n",
              "      <td>...</td>\n",
              "      <td>2</td>\n",
              "      <td>2</td>\n",
              "      <td>1</td>\n",
              "      <td>2</td>\n",
              "      <td>2</td>\n",
              "      <td>1</td>\n",
              "      <td>1</td>\n",
              "      <td>2</td>\n",
              "      <td>5</td>\n",
              "      <td>97</td>\n",
              "    </tr>\n",
              "    <tr>\n",
              "      <th>2</th>\n",
              "      <td>2</td>\n",
              "      <td>1</td>\n",
              "      <td>2</td>\n",
              "      <td>2</td>\n",
              "      <td>09/06/2020</td>\n",
              "      <td>1</td>\n",
              "      <td>2</td>\n",
              "      <td>55</td>\n",
              "      <td>97</td>\n",
              "      <td>1</td>\n",
              "      <td>...</td>\n",
              "      <td>2</td>\n",
              "      <td>2</td>\n",
              "      <td>2</td>\n",
              "      <td>2</td>\n",
              "      <td>2</td>\n",
              "      <td>2</td>\n",
              "      <td>2</td>\n",
              "      <td>2</td>\n",
              "      <td>3</td>\n",
              "      <td>2</td>\n",
              "    </tr>\n",
              "    <tr>\n",
              "      <th>3</th>\n",
              "      <td>2</td>\n",
              "      <td>1</td>\n",
              "      <td>1</td>\n",
              "      <td>1</td>\n",
              "      <td>12/06/2020</td>\n",
              "      <td>97</td>\n",
              "      <td>2</td>\n",
              "      <td>53</td>\n",
              "      <td>2</td>\n",
              "      <td>2</td>\n",
              "      <td>...</td>\n",
              "      <td>2</td>\n",
              "      <td>2</td>\n",
              "      <td>2</td>\n",
              "      <td>2</td>\n",
              "      <td>2</td>\n",
              "      <td>2</td>\n",
              "      <td>2</td>\n",
              "      <td>2</td>\n",
              "      <td>7</td>\n",
              "      <td>97</td>\n",
              "    </tr>\n",
              "    <tr>\n",
              "      <th>4</th>\n",
              "      <td>2</td>\n",
              "      <td>1</td>\n",
              "      <td>2</td>\n",
              "      <td>1</td>\n",
              "      <td>21/06/2020</td>\n",
              "      <td>97</td>\n",
              "      <td>2</td>\n",
              "      <td>68</td>\n",
              "      <td>97</td>\n",
              "      <td>1</td>\n",
              "      <td>...</td>\n",
              "      <td>2</td>\n",
              "      <td>2</td>\n",
              "      <td>1</td>\n",
              "      <td>2</td>\n",
              "      <td>2</td>\n",
              "      <td>2</td>\n",
              "      <td>2</td>\n",
              "      <td>2</td>\n",
              "      <td>3</td>\n",
              "      <td>97</td>\n",
              "    </tr>\n",
              "  </tbody>\n",
              "</table>\n",
              "<p>5 rows × 21 columns</p>\n",
              "</div>\n",
              "      <button class=\"colab-df-convert\" onclick=\"convertToInteractive('df-9d1a0cec-017b-45de-ac5b-49cad0a23f03')\"\n",
              "              title=\"Convert this dataframe to an interactive table.\"\n",
              "              style=\"display:none;\">\n",
              "        \n",
              "  <svg xmlns=\"http://www.w3.org/2000/svg\" height=\"24px\"viewBox=\"0 0 24 24\"\n",
              "       width=\"24px\">\n",
              "    <path d=\"M0 0h24v24H0V0z\" fill=\"none\"/>\n",
              "    <path d=\"M18.56 5.44l.94 2.06.94-2.06 2.06-.94-2.06-.94-.94-2.06-.94 2.06-2.06.94zm-11 1L8.5 8.5l.94-2.06 2.06-.94-2.06-.94L8.5 2.5l-.94 2.06-2.06.94zm10 10l.94 2.06.94-2.06 2.06-.94-2.06-.94-.94-2.06-.94 2.06-2.06.94z\"/><path d=\"M17.41 7.96l-1.37-1.37c-.4-.4-.92-.59-1.43-.59-.52 0-1.04.2-1.43.59L10.3 9.45l-7.72 7.72c-.78.78-.78 2.05 0 2.83L4 21.41c.39.39.9.59 1.41.59.51 0 1.02-.2 1.41-.59l7.78-7.78 2.81-2.81c.8-.78.8-2.07 0-2.86zM5.41 20L4 18.59l7.72-7.72 1.47 1.35L5.41 20z\"/>\n",
              "  </svg>\n",
              "      </button>\n",
              "      \n",
              "  <style>\n",
              "    .colab-df-container {\n",
              "      display:flex;\n",
              "      flex-wrap:wrap;\n",
              "      gap: 12px;\n",
              "    }\n",
              "\n",
              "    .colab-df-convert {\n",
              "      background-color: #E8F0FE;\n",
              "      border: none;\n",
              "      border-radius: 50%;\n",
              "      cursor: pointer;\n",
              "      display: none;\n",
              "      fill: #1967D2;\n",
              "      height: 32px;\n",
              "      padding: 0 0 0 0;\n",
              "      width: 32px;\n",
              "    }\n",
              "\n",
              "    .colab-df-convert:hover {\n",
              "      background-color: #E2EBFA;\n",
              "      box-shadow: 0px 1px 2px rgba(60, 64, 67, 0.3), 0px 1px 3px 1px rgba(60, 64, 67, 0.15);\n",
              "      fill: #174EA6;\n",
              "    }\n",
              "\n",
              "    [theme=dark] .colab-df-convert {\n",
              "      background-color: #3B4455;\n",
              "      fill: #D2E3FC;\n",
              "    }\n",
              "\n",
              "    [theme=dark] .colab-df-convert:hover {\n",
              "      background-color: #434B5C;\n",
              "      box-shadow: 0px 1px 3px 1px rgba(0, 0, 0, 0.15);\n",
              "      filter: drop-shadow(0px 1px 2px rgba(0, 0, 0, 0.3));\n",
              "      fill: #FFFFFF;\n",
              "    }\n",
              "  </style>\n",
              "\n",
              "      <script>\n",
              "        const buttonEl =\n",
              "          document.querySelector('#df-9d1a0cec-017b-45de-ac5b-49cad0a23f03 button.colab-df-convert');\n",
              "        buttonEl.style.display =\n",
              "          google.colab.kernel.accessAllowed ? 'block' : 'none';\n",
              "\n",
              "        async function convertToInteractive(key) {\n",
              "          const element = document.querySelector('#df-9d1a0cec-017b-45de-ac5b-49cad0a23f03');\n",
              "          const dataTable =\n",
              "            await google.colab.kernel.invokeFunction('convertToInteractive',\n",
              "                                                     [key], {});\n",
              "          if (!dataTable) return;\n",
              "\n",
              "          const docLinkHtml = 'Like what you see? Visit the ' +\n",
              "            '<a target=\"_blank\" href=https://colab.research.google.com/notebooks/data_table.ipynb>data table notebook</a>'\n",
              "            + ' to learn more about interactive tables.';\n",
              "          element.innerHTML = '';\n",
              "          dataTable['output_type'] = 'display_data';\n",
              "          await google.colab.output.renderOutput(dataTable, element);\n",
              "          const docLink = document.createElement('div');\n",
              "          docLink.innerHTML = docLinkHtml;\n",
              "          element.appendChild(docLink);\n",
              "        }\n",
              "      </script>\n",
              "    </div>\n",
              "  </div>\n",
              "  "
            ]
          },
          "metadata": {},
          "execution_count": 276
        }
      ],
      "source": [
        "df.head()"
      ]
    },
    {
      "cell_type": "code",
      "execution_count": 277,
      "metadata": {
        "id": "JLRJx6_QyLOD",
        "colab": {
          "base_uri": "https://localhost:8080/"
        },
        "outputId": "0cffd6ac-d759-4482-f126-ba347d1c3eea"
      },
      "outputs": [
        {
          "output_type": "stream",
          "name": "stdout",
          "text": [
            "<class 'pandas.core.frame.DataFrame'>\n",
            "RangeIndex: 1048575 entries, 0 to 1048574\n",
            "Data columns (total 21 columns):\n",
            " #   Column                Non-Null Count    Dtype \n",
            "---  ------                --------------    ----- \n",
            " 0   USMER                 1048575 non-null  int64 \n",
            " 1   MEDICAL_UNIT          1048575 non-null  int64 \n",
            " 2   SEX                   1048575 non-null  int64 \n",
            " 3   PATIENT_TYPE          1048575 non-null  int64 \n",
            " 4   DATE_DIED             1048575 non-null  object\n",
            " 5   INTUBED               1048575 non-null  int64 \n",
            " 6   PNEUMONIA             1048575 non-null  int64 \n",
            " 7   AGE                   1048575 non-null  int64 \n",
            " 8   PREGNANT              1048575 non-null  int64 \n",
            " 9   DIABETES              1048575 non-null  int64 \n",
            " 10  COPD                  1048575 non-null  int64 \n",
            " 11  ASTHMA                1048575 non-null  int64 \n",
            " 12  INMSUPR               1048575 non-null  int64 \n",
            " 13  HIPERTENSION          1048575 non-null  int64 \n",
            " 14  OTHER_DISEASE         1048575 non-null  int64 \n",
            " 15  CARDIOVASCULAR        1048575 non-null  int64 \n",
            " 16  OBESITY               1048575 non-null  int64 \n",
            " 17  RENAL_CHRONIC         1048575 non-null  int64 \n",
            " 18  TOBACCO               1048575 non-null  int64 \n",
            " 19  CLASIFFICATION_FINAL  1048575 non-null  int64 \n",
            " 20  ICU                   1048575 non-null  int64 \n",
            "dtypes: int64(20), object(1)\n",
            "memory usage: 168.0+ MB\n"
          ]
        }
      ],
      "source": [
        "df.info()"
      ]
    },
    {
      "cell_type": "markdown",
      "metadata": {
        "id": "xFw91V1-kAHQ"
      },
      "source": [
        "## Understanding and cleaning the data"
      ]
    },
    {
      "cell_type": "markdown",
      "metadata": {
        "id": "hCburwr55wrV"
      },
      "source": [
        "### Helpers"
      ]
    },
    {
      "cell_type": "code",
      "execution_count": 278,
      "metadata": {
        "id": "ZDy91MHE53jE"
      },
      "outputs": [],
      "source": [
        "def plot_hist_col(col: str, title: str, kde=True, bins=30) -> None:\n",
        "  plt.title(title)\n",
        "  sns.histplot(data=df, x=col, bins=bins, kde=kde)\n",
        "  plt.show()"
      ]
    },
    {
      "cell_type": "code",
      "execution_count": 279,
      "metadata": {
        "id": "gAXDJFo37R79"
      },
      "outputs": [],
      "source": [
        "def plot_col_deaths_hist(label: str) -> None:\n",
        "    plt.hist(df[df[\"DIED\"] == 1][label], color=\"red\", label=\"died\", alpha=0.7, density=True)\n",
        "    plt.hist(df[df[\"DIED\"] == 0][label], color=\"green\", label=\"not died\", alpha=0.7, density=True)\n",
        "    plt.legend()\n",
        "    plt.show()"
      ]
    },
    {
      "cell_type": "code",
      "source": [
        "def plot_pie_tf(title, column, labels):\n",
        "  data = [\n",
        "      len(df[df[column] == 0]),\n",
        "      len(df[df[column] == 1])\n",
        "  ]\n",
        "  colors = sns.color_palette('pastel')[2:4]\n",
        "  plt.figure(figsize=(7,7))\n",
        "  plt.title(title)\n",
        "  plt.pie(data, labels=labels, colors=colors, autopct='%.0f%%')\n",
        "  plt.show()"
      ],
      "metadata": {
        "id": "GFIaC9uScF-Q"
      },
      "execution_count": 280,
      "outputs": []
    },
    {
      "cell_type": "markdown",
      "metadata": {
        "id": "vaPqW7T8m1f6"
      },
      "source": [
        "### Column `DATE_DIED`\n",
        "\n",
        "If the patient died indicate the date of death, and 9999-99-99 otherwise."
      ]
    },
    {
      "cell_type": "code",
      "execution_count": 281,
      "metadata": {
        "id": "s53aTIC1n-LQ",
        "colab": {
          "base_uri": "https://localhost:8080/"
        },
        "outputId": "e14e3272-54c8-4ec8-f444-5dd6702a7aef"
      },
      "outputs": [
        {
          "output_type": "execute_result",
          "data": {
            "text/plain": [
              "count        1048575\n",
              "unique           401\n",
              "top       9999-99-99\n",
              "freq          971633\n",
              "Name: DATE_DIED, dtype: object"
            ]
          },
          "metadata": {},
          "execution_count": 281
        }
      ],
      "source": [
        "df['DATE_DIED'].describe()"
      ]
    },
    {
      "cell_type": "code",
      "execution_count": 282,
      "metadata": {
        "id": "ROFaWkCXoPSn",
        "colab": {
          "base_uri": "https://localhost:8080/",
          "height": 236
        },
        "outputId": "159d49ab-6fe7-496a-cd18-4166c4944468"
      },
      "outputs": [
        {
          "output_type": "execute_result",
          "data": {
            "text/plain": [
              "   USMER  MEDICAL_UNIT  SEX  PATIENT_TYPE  INTUBED  PNEUMONIA  AGE  PREGNANT  \\\n",
              "0      2             1    1             1       97          1   65         2   \n",
              "1      2             1    2             1       97          1   72        97   \n",
              "2      2             1    2             2        1          2   55        97   \n",
              "3      2             1    1             1       97          2   53         2   \n",
              "4      2             1    2             1       97          2   68        97   \n",
              "\n",
              "   DIABETES  COPD  ...  INMSUPR  HIPERTENSION  OTHER_DISEASE  CARDIOVASCULAR  \\\n",
              "0         2     2  ...        2             1              2               2   \n",
              "1         2     2  ...        2             1              2               2   \n",
              "2         1     2  ...        2             2              2               2   \n",
              "3         2     2  ...        2             2              2               2   \n",
              "4         1     2  ...        2             1              2               2   \n",
              "\n",
              "   OBESITY  RENAL_CHRONIC  TOBACCO  CLASIFFICATION_FINAL  ICU  DIED  \n",
              "0        2              2        2                     3   97     1  \n",
              "1        1              1        2                     5   97     1  \n",
              "2        2              2        2                     3    2     1  \n",
              "3        2              2        2                     7   97     1  \n",
              "4        2              2        2                     3   97     1  \n",
              "\n",
              "[5 rows x 21 columns]"
            ],
            "text/html": [
              "\n",
              "  <div id=\"df-49917b81-d469-4315-993e-fc4aae3e469f\">\n",
              "    <div class=\"colab-df-container\">\n",
              "      <div>\n",
              "<style scoped>\n",
              "    .dataframe tbody tr th:only-of-type {\n",
              "        vertical-align: middle;\n",
              "    }\n",
              "\n",
              "    .dataframe tbody tr th {\n",
              "        vertical-align: top;\n",
              "    }\n",
              "\n",
              "    .dataframe thead th {\n",
              "        text-align: right;\n",
              "    }\n",
              "</style>\n",
              "<table border=\"1\" class=\"dataframe\">\n",
              "  <thead>\n",
              "    <tr style=\"text-align: right;\">\n",
              "      <th></th>\n",
              "      <th>USMER</th>\n",
              "      <th>MEDICAL_UNIT</th>\n",
              "      <th>SEX</th>\n",
              "      <th>PATIENT_TYPE</th>\n",
              "      <th>INTUBED</th>\n",
              "      <th>PNEUMONIA</th>\n",
              "      <th>AGE</th>\n",
              "      <th>PREGNANT</th>\n",
              "      <th>DIABETES</th>\n",
              "      <th>COPD</th>\n",
              "      <th>...</th>\n",
              "      <th>INMSUPR</th>\n",
              "      <th>HIPERTENSION</th>\n",
              "      <th>OTHER_DISEASE</th>\n",
              "      <th>CARDIOVASCULAR</th>\n",
              "      <th>OBESITY</th>\n",
              "      <th>RENAL_CHRONIC</th>\n",
              "      <th>TOBACCO</th>\n",
              "      <th>CLASIFFICATION_FINAL</th>\n",
              "      <th>ICU</th>\n",
              "      <th>DIED</th>\n",
              "    </tr>\n",
              "  </thead>\n",
              "  <tbody>\n",
              "    <tr>\n",
              "      <th>0</th>\n",
              "      <td>2</td>\n",
              "      <td>1</td>\n",
              "      <td>1</td>\n",
              "      <td>1</td>\n",
              "      <td>97</td>\n",
              "      <td>1</td>\n",
              "      <td>65</td>\n",
              "      <td>2</td>\n",
              "      <td>2</td>\n",
              "      <td>2</td>\n",
              "      <td>...</td>\n",
              "      <td>2</td>\n",
              "      <td>1</td>\n",
              "      <td>2</td>\n",
              "      <td>2</td>\n",
              "      <td>2</td>\n",
              "      <td>2</td>\n",
              "      <td>2</td>\n",
              "      <td>3</td>\n",
              "      <td>97</td>\n",
              "      <td>1</td>\n",
              "    </tr>\n",
              "    <tr>\n",
              "      <th>1</th>\n",
              "      <td>2</td>\n",
              "      <td>1</td>\n",
              "      <td>2</td>\n",
              "      <td>1</td>\n",
              "      <td>97</td>\n",
              "      <td>1</td>\n",
              "      <td>72</td>\n",
              "      <td>97</td>\n",
              "      <td>2</td>\n",
              "      <td>2</td>\n",
              "      <td>...</td>\n",
              "      <td>2</td>\n",
              "      <td>1</td>\n",
              "      <td>2</td>\n",
              "      <td>2</td>\n",
              "      <td>1</td>\n",
              "      <td>1</td>\n",
              "      <td>2</td>\n",
              "      <td>5</td>\n",
              "      <td>97</td>\n",
              "      <td>1</td>\n",
              "    </tr>\n",
              "    <tr>\n",
              "      <th>2</th>\n",
              "      <td>2</td>\n",
              "      <td>1</td>\n",
              "      <td>2</td>\n",
              "      <td>2</td>\n",
              "      <td>1</td>\n",
              "      <td>2</td>\n",
              "      <td>55</td>\n",
              "      <td>97</td>\n",
              "      <td>1</td>\n",
              "      <td>2</td>\n",
              "      <td>...</td>\n",
              "      <td>2</td>\n",
              "      <td>2</td>\n",
              "      <td>2</td>\n",
              "      <td>2</td>\n",
              "      <td>2</td>\n",
              "      <td>2</td>\n",
              "      <td>2</td>\n",
              "      <td>3</td>\n",
              "      <td>2</td>\n",
              "      <td>1</td>\n",
              "    </tr>\n",
              "    <tr>\n",
              "      <th>3</th>\n",
              "      <td>2</td>\n",
              "      <td>1</td>\n",
              "      <td>1</td>\n",
              "      <td>1</td>\n",
              "      <td>97</td>\n",
              "      <td>2</td>\n",
              "      <td>53</td>\n",
              "      <td>2</td>\n",
              "      <td>2</td>\n",
              "      <td>2</td>\n",
              "      <td>...</td>\n",
              "      <td>2</td>\n",
              "      <td>2</td>\n",
              "      <td>2</td>\n",
              "      <td>2</td>\n",
              "      <td>2</td>\n",
              "      <td>2</td>\n",
              "      <td>2</td>\n",
              "      <td>7</td>\n",
              "      <td>97</td>\n",
              "      <td>1</td>\n",
              "    </tr>\n",
              "    <tr>\n",
              "      <th>4</th>\n",
              "      <td>2</td>\n",
              "      <td>1</td>\n",
              "      <td>2</td>\n",
              "      <td>1</td>\n",
              "      <td>97</td>\n",
              "      <td>2</td>\n",
              "      <td>68</td>\n",
              "      <td>97</td>\n",
              "      <td>1</td>\n",
              "      <td>2</td>\n",
              "      <td>...</td>\n",
              "      <td>2</td>\n",
              "      <td>1</td>\n",
              "      <td>2</td>\n",
              "      <td>2</td>\n",
              "      <td>2</td>\n",
              "      <td>2</td>\n",
              "      <td>2</td>\n",
              "      <td>3</td>\n",
              "      <td>97</td>\n",
              "      <td>1</td>\n",
              "    </tr>\n",
              "  </tbody>\n",
              "</table>\n",
              "<p>5 rows × 21 columns</p>\n",
              "</div>\n",
              "      <button class=\"colab-df-convert\" onclick=\"convertToInteractive('df-49917b81-d469-4315-993e-fc4aae3e469f')\"\n",
              "              title=\"Convert this dataframe to an interactive table.\"\n",
              "              style=\"display:none;\">\n",
              "        \n",
              "  <svg xmlns=\"http://www.w3.org/2000/svg\" height=\"24px\"viewBox=\"0 0 24 24\"\n",
              "       width=\"24px\">\n",
              "    <path d=\"M0 0h24v24H0V0z\" fill=\"none\"/>\n",
              "    <path d=\"M18.56 5.44l.94 2.06.94-2.06 2.06-.94-2.06-.94-.94-2.06-.94 2.06-2.06.94zm-11 1L8.5 8.5l.94-2.06 2.06-.94-2.06-.94L8.5 2.5l-.94 2.06-2.06.94zm10 10l.94 2.06.94-2.06 2.06-.94-2.06-.94-.94-2.06-.94 2.06-2.06.94z\"/><path d=\"M17.41 7.96l-1.37-1.37c-.4-.4-.92-.59-1.43-.59-.52 0-1.04.2-1.43.59L10.3 9.45l-7.72 7.72c-.78.78-.78 2.05 0 2.83L4 21.41c.39.39.9.59 1.41.59.51 0 1.02-.2 1.41-.59l7.78-7.78 2.81-2.81c.8-.78.8-2.07 0-2.86zM5.41 20L4 18.59l7.72-7.72 1.47 1.35L5.41 20z\"/>\n",
              "  </svg>\n",
              "      </button>\n",
              "      \n",
              "  <style>\n",
              "    .colab-df-container {\n",
              "      display:flex;\n",
              "      flex-wrap:wrap;\n",
              "      gap: 12px;\n",
              "    }\n",
              "\n",
              "    .colab-df-convert {\n",
              "      background-color: #E8F0FE;\n",
              "      border: none;\n",
              "      border-radius: 50%;\n",
              "      cursor: pointer;\n",
              "      display: none;\n",
              "      fill: #1967D2;\n",
              "      height: 32px;\n",
              "      padding: 0 0 0 0;\n",
              "      width: 32px;\n",
              "    }\n",
              "\n",
              "    .colab-df-convert:hover {\n",
              "      background-color: #E2EBFA;\n",
              "      box-shadow: 0px 1px 2px rgba(60, 64, 67, 0.3), 0px 1px 3px 1px rgba(60, 64, 67, 0.15);\n",
              "      fill: #174EA6;\n",
              "    }\n",
              "\n",
              "    [theme=dark] .colab-df-convert {\n",
              "      background-color: #3B4455;\n",
              "      fill: #D2E3FC;\n",
              "    }\n",
              "\n",
              "    [theme=dark] .colab-df-convert:hover {\n",
              "      background-color: #434B5C;\n",
              "      box-shadow: 0px 1px 3px 1px rgba(0, 0, 0, 0.15);\n",
              "      filter: drop-shadow(0px 1px 2px rgba(0, 0, 0, 0.3));\n",
              "      fill: #FFFFFF;\n",
              "    }\n",
              "  </style>\n",
              "\n",
              "      <script>\n",
              "        const buttonEl =\n",
              "          document.querySelector('#df-49917b81-d469-4315-993e-fc4aae3e469f button.colab-df-convert');\n",
              "        buttonEl.style.display =\n",
              "          google.colab.kernel.accessAllowed ? 'block' : 'none';\n",
              "\n",
              "        async function convertToInteractive(key) {\n",
              "          const element = document.querySelector('#df-49917b81-d469-4315-993e-fc4aae3e469f');\n",
              "          const dataTable =\n",
              "            await google.colab.kernel.invokeFunction('convertToInteractive',\n",
              "                                                     [key], {});\n",
              "          if (!dataTable) return;\n",
              "\n",
              "          const docLinkHtml = 'Like what you see? Visit the ' +\n",
              "            '<a target=\"_blank\" href=https://colab.research.google.com/notebooks/data_table.ipynb>data table notebook</a>'\n",
              "            + ' to learn more about interactive tables.';\n",
              "          element.innerHTML = '';\n",
              "          dataTable['output_type'] = 'display_data';\n",
              "          await google.colab.output.renderOutput(dataTable, element);\n",
              "          const docLink = document.createElement('div');\n",
              "          docLink.innerHTML = docLinkHtml;\n",
              "          element.appendChild(docLink);\n",
              "        }\n",
              "      </script>\n",
              "    </div>\n",
              "  </div>\n",
              "  "
            ]
          },
          "metadata": {},
          "execution_count": 282
        }
      ],
      "source": [
        "df['DIED'] = df['DATE_DIED'].apply(lambda x: 0 if x == '9999-99-99' else 1)\n",
        "df.drop(labels='DATE_DIED', axis=1, inplace=True)\n",
        "df.head()"
      ]
    },
    {
      "cell_type": "code",
      "execution_count": 283,
      "metadata": {
        "id": "zjcg8xnSpK_Y"
      },
      "outputs": [],
      "source": [
        "def plot_deaths():\n",
        "  labels=['not dead', 'dead']\n",
        "  data = [\n",
        "      len(df[df['DIED'] == 0]),\n",
        "      len(df[df['DIED'] == 1])\n",
        "  ]\n",
        "  colors = sns.color_palette('pastel')[2:4]\n",
        "  plt.figure(figsize=(7,7))\n",
        "  plt.title('the percentage of deaths in the dataset')\n",
        "  plt.pie(data, labels=labels, colors=colors, autopct='%.0f%%')\n",
        "  plt.show()"
      ]
    },
    {
      "cell_type": "code",
      "execution_count": 284,
      "metadata": {
        "id": "9bFNesYhxewM",
        "colab": {
          "base_uri": "https://localhost:8080/",
          "height": 427
        },
        "outputId": "bb588b29-7f7b-4729-c4c6-1f3aee725dc5"
      },
      "outputs": [
        {
          "output_type": "display_data",
          "data": {
            "text/plain": [
              "<Figure size 504x504 with 1 Axes>"
            ],
            "image/png": "[encoded data removed]"
          },
          "metadata": {}
        }
      ],
      "source": [
        "plot_deaths()"
      ]
    },
    {
      "cell_type": "markdown",
      "metadata": {
        "id": "SB1WETOqkhX4"
      },
      "source": [
        "### Column `SEX`\n",
        "1 for female and 2 for male"
      ]
    },
    {
      "cell_type": "code",
      "execution_count": 285,
      "metadata": {
        "id": "EQCwVktDbgXu",
        "colab": {
          "base_uri": "https://localhost:8080/"
        },
        "outputId": "fb001db1-8a11-4165-b76a-19af4637c4a2"
      },
      "outputs": [
        {
          "output_type": "execute_result",
          "data": {
            "text/plain": [
              "1    525064\n",
              "2    523511\n",
              "Name: SEX, dtype: int64"
            ]
          },
          "metadata": {},
          "execution_count": 285
        }
      ],
      "source": [
        "df['SEX'].value_counts(dropna=False)"
      ]
    },
    {
      "cell_type": "code",
      "execution_count": 286,
      "metadata": {
        "id": "WBDA4yuzkynV",
        "colab": {
          "base_uri": "https://localhost:8080/",
          "height": 236
        },
        "outputId": "eee4b2f8-ca84-4e8f-f36a-a955caa8a08d"
      },
      "outputs": [
        {
          "output_type": "execute_result",
          "data": {
            "text/plain": [
              "   USMER  MEDICAL_UNIT  PATIENT_TYPE  INTUBED  PNEUMONIA  AGE  PREGNANT  \\\n",
              "0      2             1             1       97          1   65         2   \n",
              "1      2             1             1       97          1   72        97   \n",
              "2      2             1             2        1          2   55        97   \n",
              "3      2             1             1       97          2   53         2   \n",
              "4      2             1             1       97          2   68        97   \n",
              "\n",
              "   DIABETES  COPD  ASTHMA  ...  HIPERTENSION  OTHER_DISEASE  CARDIOVASCULAR  \\\n",
              "0         2     2       2  ...             1              2               2   \n",
              "1         2     2       2  ...             1              2               2   \n",
              "2         1     2       2  ...             2              2               2   \n",
              "3         2     2       2  ...             2              2               2   \n",
              "4         1     2       2  ...             1              2               2   \n",
              "\n",
              "   OBESITY  RENAL_CHRONIC  TOBACCO  CLASIFFICATION_FINAL  ICU  DIED  IS_FEMALE  \n",
              "0        2              2        2                     3   97     1          1  \n",
              "1        1              1        2                     5   97     1          0  \n",
              "2        2              2        2                     3    2     1          0  \n",
              "3        2              2        2                     7   97     1          1  \n",
              "4        2              2        2                     3   97     1          0  \n",
              "\n",
              "[5 rows x 21 columns]"
            ],
            "text/html": [
              "\n",
              "  <div id=\"df-e70937b6-edbb-4826-9752-7ddc96536b2d\">\n",
              "    <div class=\"colab-df-container\">\n",
              "      <div>\n",
              "<style scoped>\n",
              "    .dataframe tbody tr th:only-of-type {\n",
              "        vertical-align: middle;\n",
              "    }\n",
              "\n",
              "    .dataframe tbody tr th {\n",
              "        vertical-align: top;\n",
              "    }\n",
              "\n",
              "    .dataframe thead th {\n",
              "        text-align: right;\n",
              "    }\n",
              "</style>\n",
              "<table border=\"1\" class=\"dataframe\">\n",
              "  <thead>\n",
              "    <tr style=\"text-align: right;\">\n",
              "      <th></th>\n",
              "      <th>USMER</th>\n",
              "      <th>MEDICAL_UNIT</th>\n",
              "      <th>PATIENT_TYPE</th>\n",
              "      <th>INTUBED</th>\n",
              "      <th>PNEUMONIA</th>\n",
              "      <th>AGE</th>\n",
              "      <th>PREGNANT</th>\n",
              "      <th>DIABETES</th>\n",
              "      <th>COPD</th>\n",
              "      <th>ASTHMA</th>\n",
              "      <th>...</th>\n",
              "      <th>HIPERTENSION</th>\n",
              "      <th>OTHER_DISEASE</th>\n",
              "      <th>CARDIOVASCULAR</th>\n",
              "      <th>OBESITY</th>\n",
              "      <th>RENAL_CHRONIC</th>\n",
              "      <th>TOBACCO</th>\n",
              "      <th>CLASIFFICATION_FINAL</th>\n",
              "      <th>ICU</th>\n",
              "      <th>DIED</th>\n",
              "      <th>IS_FEMALE</th>\n",
              "    </tr>\n",
              "  </thead>\n",
              "  <tbody>\n",
              "    <tr>\n",
              "      <th>0</th>\n",
              "      <td>2</td>\n",
              "      <td>1</td>\n",
              "      <td>1</td>\n",
              "      <td>97</td>\n",
              "      <td>1</td>\n",
              "      <td>65</td>\n",
              "      <td>2</td>\n",
              "      <td>2</td>\n",
              "      <td>2</td>\n",
              "      <td>2</td>\n",
              "      <td>...</td>\n",
              "      <td>1</td>\n",
              "      <td>2</td>\n",
              "      <td>2</td>\n",
              "      <td>2</td>\n",
              "      <td>2</td>\n",
              "      <td>2</td>\n",
              "      <td>3</td>\n",
              "      <td>97</td>\n",
              "      <td>1</td>\n",
              "      <td>1</td>\n",
              "    </tr>\n",
              "    <tr>\n",
              "      <th>1</th>\n",
              "      <td>2</td>\n",
              "      <td>1</td>\n",
              "      <td>1</td>\n",
              "      <td>97</td>\n",
              "      <td>1</td>\n",
              "      <td>72</td>\n",
              "      <td>97</td>\n",
              "      <td>2</td>\n",
              "      <td>2</td>\n",
              "      <td>2</td>\n",
              "      <td>...</td>\n",
              "      <td>1</td>\n",
              "      <td>2</td>\n",
              "      <td>2</td>\n",
              "      <td>1</td>\n",
              "      <td>1</td>\n",
              "      <td>2</td>\n",
              "      <td>5</td>\n",
              "      <td>97</td>\n",
              "      <td>1</td>\n",
              "      <td>0</td>\n",
              "    </tr>\n",
              "    <tr>\n",
              "      <th>2</th>\n",
              "      <td>2</td>\n",
              "      <td>1</td>\n",
              "      <td>2</td>\n",
              "      <td>1</td>\n",
              "      <td>2</td>\n",
              "      <td>55</td>\n",
              "      <td>97</td>\n",
              "      <td>1</td>\n",
              "      <td>2</td>\n",
              "      <td>2</td>\n",
              "      <td>...</td>\n",
              "      <td>2</td>\n",
              "      <td>2</td>\n",
              "      <td>2</td>\n",
              "      <td>2</td>\n",
              "      <td>2</td>\n",
              "      <td>2</td>\n",
              "      <td>3</td>\n",
              "      <td>2</td>\n",
              "      <td>1</td>\n",
              "      <td>0</td>\n",
              "    </tr>\n",
              "    <tr>\n",
              "      <th>3</th>\n",
              "      <td>2</td>\n",
              "      <td>1</td>\n",
              "      <td>1</td>\n",
              "      <td>97</td>\n",
              "      <td>2</td>\n",
              "      <td>53</td>\n",
              "      <td>2</td>\n",
              "      <td>2</td>\n",
              "      <td>2</td>\n",
              "      <td>2</td>\n",
              "      <td>...</td>\n",
              "      <td>2</td>\n",
              "      <td>2</td>\n",
              "      <td>2</td>\n",
              "      <td>2</td>\n",
              "      <td>2</td>\n",
              "      <td>2</td>\n",
              "      <td>7</td>\n",
              "      <td>97</td>\n",
              "      <td>1</td>\n",
              "      <td>1</td>\n",
              "    </tr>\n",
              "    <tr>\n",
              "      <th>4</th>\n",
              "      <td>2</td>\n",
              "      <td>1</td>\n",
              "      <td>1</td>\n",
              "      <td>97</td>\n",
              "      <td>2</td>\n",
              "      <td>68</td>\n",
              "      <td>97</td>\n",
              "      <td>1</td>\n",
              "      <td>2</td>\n",
              "      <td>2</td>\n",
              "      <td>...</td>\n",
              "      <td>1</td>\n",
              "      <td>2</td>\n",
              "      <td>2</td>\n",
              "      <td>2</td>\n",
              "      <td>2</td>\n",
              "      <td>2</td>\n",
              "      <td>3</td>\n",
              "      <td>97</td>\n",
              "      <td>1</td>\n",
              "      <td>0</td>\n",
              "    </tr>\n",
              "  </tbody>\n",
              "</table>\n",
              "<p>5 rows × 21 columns</p>\n",
              "</div>\n",
              "      <button class=\"colab-df-convert\" onclick=\"convertToInteractive('df-e70937b6-edbb-4826-9752-7ddc96536b2d')\"\n",
              "              title=\"Convert this dataframe to an interactive table.\"\n",
              "              style=\"display:none;\">\n",
              "        \n",
              "  <svg xmlns=\"http://www.w3.org/2000/svg\" height=\"24px\"viewBox=\"0 0 24 24\"\n",
              "       width=\"24px\">\n",
              "    <path d=\"M0 0h24v24H0V0z\" fill=\"none\"/>\n",
              "    <path d=\"M18.56 5.44l.94 2.06.94-2.06 2.06-.94-2.06-.94-.94-2.06-.94 2.06-2.06.94zm-11 1L8.5 8.5l.94-2.06 2.06-.94-2.06-.94L8.5 2.5l-.94 2.06-2.06.94zm10 10l.94 2.06.94-2.06 2.06-.94-2.06-.94-.94-2.06-.94 2.06-2.06.94z\"/><path d=\"M17.41 7.96l-1.37-1.37c-.4-.4-.92-.59-1.43-.59-.52 0-1.04.2-1.43.59L10.3 9.45l-7.72 7.72c-.78.78-.78 2.05 0 2.83L4 21.41c.39.39.9.59 1.41.59.51 0 1.02-.2 1.41-.59l7.78-7.78 2.81-2.81c.8-.78.8-2.07 0-2.86zM5.41 20L4 18.59l7.72-7.72 1.47 1.35L5.41 20z\"/>\n",
              "  </svg>\n",
              "      </button>\n",
              "      \n",
              "  <style>\n",
              "    .colab-df-container {\n",
              "      display:flex;\n",
              "      flex-wrap:wrap;\n",
              "      gap: 12px;\n",
              "    }\n",
              "\n",
              "    .colab-df-convert {\n",
              "      background-color: #E8F0FE;\n",
              "      border: none;\n",
              "      border-radius: 50%;\n",
              "      cursor: pointer;\n",
              "      display: none;\n",
              "      fill: #1967D2;\n",
              "      height: 32px;\n",
              "      padding: 0 0 0 0;\n",
              "      width: 32px;\n",
              "    }\n",
              "\n",
              "    .colab-df-convert:hover {\n",
              "      background-color: #E2EBFA;\n",
              "      box-shadow: 0px 1px 2px rgba(60, 64, 67, 0.3), 0px 1px 3px 1px rgba(60, 64, 67, 0.15);\n",
              "      fill: #174EA6;\n",
              "    }\n",
              "\n",
              "    [theme=dark] .colab-df-convert {\n",
              "      background-color: #3B4455;\n",
              "      fill: #D2E3FC;\n",
              "    }\n",
              "\n",
              "    [theme=dark] .colab-df-convert:hover {\n",
              "      background-color: #434B5C;\n",
              "      box-shadow: 0px 1px 3px 1px rgba(0, 0, 0, 0.15);\n",
              "      filter: drop-shadow(0px 1px 2px rgba(0, 0, 0, 0.3));\n",
              "      fill: #FFFFFF;\n",
              "    }\n",
              "  </style>\n",
              "\n",
              "      <script>\n",
              "        const buttonEl =\n",
              "          document.querySelector('#df-e70937b6-edbb-4826-9752-7ddc96536b2d button.colab-df-convert');\n",
              "        buttonEl.style.display =\n",
              "          google.colab.kernel.accessAllowed ? 'block' : 'none';\n",
              "\n",
              "        async function convertToInteractive(key) {\n",
              "          const element = document.querySelector('#df-e70937b6-edbb-4826-9752-7ddc96536b2d');\n",
              "          const dataTable =\n",
              "            await google.colab.kernel.invokeFunction('convertToInteractive',\n",
              "                                                     [key], {});\n",
              "          if (!dataTable) return;\n",
              "\n",
              "          const docLinkHtml = 'Like what you see? Visit the ' +\n",
              "            '<a target=\"_blank\" href=https://colab.research.google.com/notebooks/data_table.ipynb>data table notebook</a>'\n",
              "            + ' to learn more about interactive tables.';\n",
              "          element.innerHTML = '';\n",
              "          dataTable['output_type'] = 'display_data';\n",
              "          await google.colab.output.renderOutput(dataTable, element);\n",
              "          const docLink = document.createElement('div');\n",
              "          docLink.innerHTML = docLinkHtml;\n",
              "          element.appendChild(docLink);\n",
              "        }\n",
              "      </script>\n",
              "    </div>\n",
              "  </div>\n",
              "  "
            ]
          },
          "metadata": {},
          "execution_count": 286
        }
      ],
      "source": [
        "df['IS_FEMALE'] = df['SEX'].apply(lambda x: 0 if x == 2 else 1)\n",
        "df.drop(labels='SEX', axis=1, inplace=True)\n",
        "df.head()"
      ]
    },
    {
      "cell_type": "code",
      "execution_count": 287,
      "metadata": {
        "id": "87KWBu2Tl4tR",
        "colab": {
          "base_uri": "https://localhost:8080/"
        },
        "outputId": "75660b20-5e11-4ecd-a2a1-298dba3f12cb"
      },
      "outputs": [
        {
          "output_type": "execute_result",
          "data": {
            "text/plain": [
              "IS_FEMALE\n",
              "0    49540\n",
              "1    27402\n",
              "Name: IS_FEMALE, dtype: int64"
            ]
          },
          "metadata": {},
          "execution_count": 287
        }
      ],
      "source": [
        "df[df['DIED'] == 1].groupby(['IS_FEMALE'])['IS_FEMALE'].count()"
      ]
    },
    {
      "cell_type": "markdown",
      "metadata": {
        "id": "SJcEWuVm1Fgb"
      },
      "source": [
        "**Observation:** women die less frequently."
      ]
    },
    {
      "cell_type": "markdown",
      "metadata": {
        "id": "B67NUL-I4Kws"
      },
      "source": [
        "### Column `AGE`"
      ]
    },
    {
      "cell_type": "code",
      "execution_count": 288,
      "metadata": {
        "id": "SoumDJ1Q3iFe",
        "colab": {
          "base_uri": "https://localhost:8080/",
          "height": 295
        },
        "outputId": "c6429f2c-ef28-4c31-bf91-151746872ba3"
      },
      "outputs": [
        {
          "output_type": "display_data",
          "data": {
            "text/plain": [
              "<Figure size 432x288 with 1 Axes>"
            ],
            "image/png": "[encoded data removed]"
          },
          "metadata": {
            "needs_background": "light"
          }
        }
      ],
      "source": [
        "plot_hist_col('AGE', 'AGE')"
      ]
    },
    {
      "cell_type": "markdown",
      "metadata": {
        "id": "pHWjL3ei8L49"
      },
      "source": [
        "**Observation:** The dataset mostly consists of people between 25 and 50 years old."
      ]
    },
    {
      "cell_type": "code",
      "execution_count": 289,
      "metadata": {
        "id": "YHmlxVl34dOK",
        "colab": {
          "base_uri": "https://localhost:8080/",
          "height": 265
        },
        "outputId": "a18a12b5-9d54-4a4f-fd09-4f87eca37710"
      },
      "outputs": [
        {
          "output_type": "display_data",
          "data": {
            "text/plain": [
              "<Figure size 432x288 with 1 Axes>"
            ],
            "image/png": "[encoded data removed]"
          },
          "metadata": {
            "needs_background": "light"
          }
        }
      ],
      "source": [
        "plot_col_deaths_hist('AGE')"
      ]
    },
    {
      "cell_type": "markdown",
      "metadata": {
        "id": "oxaN45Ug9gSm"
      },
      "source": [
        "**Observation:** People older than 50, are at risk."
      ]
    },
    {
      "cell_type": "markdown",
      "metadata": {
        "id": "ZpsXsOBB1acA"
      },
      "source": [
        "### Column `CLASIFFICATION_FINAL`\n",
        "\n",
        "Values 1-3 mean that the patient was diagnosed with covid in different\n",
        "degrees. 4 or higher means that the patient is not a carrier of covid or that the test is inconclusive."
      ]
    },
    {
      "cell_type": "code",
      "execution_count": 290,
      "metadata": {
        "id": "rx3N7FhC1ljx",
        "colab": {
          "base_uri": "https://localhost:8080/"
        },
        "outputId": "aede1677-bd2d-4eb5-a771-5bed6a417675"
      },
      "outputs": [
        {
          "output_type": "execute_result",
          "data": {
            "text/plain": [
              "count    1.048575e+06\n",
              "mean     5.305653e+00\n",
              "std      1.881165e+00\n",
              "min      1.000000e+00\n",
              "25%      3.000000e+00\n",
              "50%      6.000000e+00\n",
              "75%      7.000000e+00\n",
              "max      7.000000e+00\n",
              "Name: CLASIFFICATION_FINAL, dtype: float64"
            ]
          },
          "metadata": {},
          "execution_count": 290
        }
      ],
      "source": [
        "df['CLASIFFICATION_FINAL'].describe()"
      ]
    },
    {
      "cell_type": "code",
      "execution_count": 291,
      "metadata": {
        "id": "tGhcTy4r10P2",
        "colab": {
          "base_uri": "https://localhost:8080/",
          "height": 296
        },
        "outputId": "7e78c48a-ba46-4f4c-dd67-b8d27b46eb85"
      },
      "outputs": [
        {
          "output_type": "display_data",
          "data": {
            "text/plain": [
              "<Figure size 432x288 with 1 Axes>"
            ],
            "image/png": "[encoded data removed]"
          },
          "metadata": {
            "needs_background": "light"
          }
        }
      ],
      "source": [
        "plot_hist_col('CLASIFFICATION_FINAL', 'COVID-19 TESTS RESULTS', kde=False)"
      ]
    },
    {
      "cell_type": "code",
      "execution_count": 292,
      "metadata": {
        "id": "U7QqKc7M2L4C",
        "colab": {
          "base_uri": "https://localhost:8080/",
          "height": 265
        },
        "outputId": "413c446b-17e5-4eaf-c930-08b2e2de114f"
      },
      "outputs": [
        {
          "output_type": "display_data",
          "data": {
            "text/plain": [
              "<Figure size 432x288 with 1 Axes>"
            ],
            "image/png": "[encoded data removed]"
          },
          "metadata": {
            "needs_background": "light"
          }
        }
      ],
      "source": [
        "plot_col_deaths_hist('CLASIFFICATION_FINAL')"
      ]
    },
    {
      "cell_type": "markdown",
      "source": [
        "### Column `PATIENT_TYPE`\n",
        "\n",
        "Type of care the patient received in the unit. 1 for returned home and 2 for hospitalization."
      ],
      "metadata": {
        "id": "UrXdmLCiZkKQ"
      }
    },
    {
      "cell_type": "code",
      "source": [
        "df['PATIENT_TYPE'].describe()"
      ],
      "metadata": {
        "id": "eONcZxLZhWBJ",
        "colab": {
          "base_uri": "https://localhost:8080/"
        },
        "outputId": "d31ff91b-caef-4970-b4e6-19ea49e3d554"
      },
      "execution_count": 293,
      "outputs": [
        {
          "output_type": "execute_result",
          "data": {
            "text/plain": [
              "count    1.048575e+06\n",
              "mean     1.190765e+00\n",
              "std      3.929041e-01\n",
              "min      1.000000e+00\n",
              "25%      1.000000e+00\n",
              "50%      1.000000e+00\n",
              "75%      1.000000e+00\n",
              "max      2.000000e+00\n",
              "Name: PATIENT_TYPE, dtype: float64"
            ]
          },
          "metadata": {},
          "execution_count": 293
        }
      ]
    },
    {
      "cell_type": "code",
      "source": [
        "df['HOSPITALIZATION'] = df['PATIENT_TYPE'].apply(lambda x: 1 if x == 2 else 0)\n",
        "df.drop(labels='PATIENT_TYPE', axis=1, inplace=True)"
      ],
      "metadata": {
        "id": "bMSwNUcOaOVf"
      },
      "execution_count": 294,
      "outputs": []
    },
    {
      "cell_type": "code",
      "source": [
        "plot_pie_tf('Hostpitalizations', 'HOSPITALIZATION', ['nonhospitalized', 'hospitalized'])\n",
        "print(df.groupby(['HOSPITALIZATION'])['HOSPITALIZATION'].count())"
      ],
      "metadata": {
        "id": "dEV8huofblJA",
        "colab": {
          "base_uri": "https://localhost:8080/",
          "height": 496
        },
        "outputId": "417cd5ac-b6c8-4bb5-a4ef-d4b1f887c2a9"
      },
      "execution_count": 295,
      "outputs": [
        {
          "output_type": "display_data",
          "data": {
            "text/plain": [
              "<Figure size 504x504 with 1 Axes>"
            ],
            "image/png": "[encoded data removed]"
          },
          "metadata": {}
        },
        {
          "output_type": "stream",
          "name": "stdout",
          "text": [
            "HOSPITALIZATION\n",
            "0    848544\n",
            "1    200031\n",
            "Name: HOSPITALIZATION, dtype: int64\n"
          ]
        }
      ]
    },
    {
      "cell_type": "markdown",
      "source": [
        "**Observation:** Most of the people in the dataset hadn't been hospitalized."
      ],
      "metadata": {
        "id": "JExsGZFEe19J"
      }
    },
    {
      "cell_type": "code",
      "source": [
        "plot_col_deaths_hist('HOSPITALIZATION')"
      ],
      "metadata": {
        "id": "xrGmhewAayP4",
        "colab": {
          "base_uri": "https://localhost:8080/",
          "height": 265
        },
        "outputId": "fcbb4605-b46e-4df8-f283-2b6d8db92ca5"
      },
      "execution_count": 296,
      "outputs": [
        {
          "output_type": "display_data",
          "data": {
            "text/plain": [
              "<Figure size 432x288 with 1 Axes>"
            ],
            "image/png": "[encoded data removed]"
          },
          "metadata": {
            "needs_background": "light"
          }
        }
      ]
    },
    {
      "cell_type": "code",
      "source": [
        "df[df['DIED'] == 1].groupby(['HOSPITALIZATION'])['HOSPITALIZATION'].count()"
      ],
      "metadata": {
        "id": "h4U1U39ndRjW",
        "colab": {
          "base_uri": "https://localhost:8080/"
        },
        "outputId": "ea991dec-e250-41a1-d60b-8a0c7ab7ca8e"
      },
      "execution_count": 297,
      "outputs": [
        {
          "output_type": "execute_result",
          "data": {
            "text/plain": [
              "HOSPITALIZATION\n",
              "0     6876\n",
              "1    70066\n",
              "Name: HOSPITALIZATION, dtype: int64"
            ]
          },
          "metadata": {},
          "execution_count": 297
        }
      ]
    },
    {
      "cell_type": "markdown",
      "source": [
        "**Observation:** Most of the patients died."
      ],
      "metadata": {
        "id": "xFo16HpYf44n"
      }
    },
    {
      "cell_type": "markdown",
      "source": [
        "### Column `PNEUMONIA`\n",
        "\n",
        "Whether the patient already has air sac inflammation or not."
      ],
      "metadata": {
        "id": "qxJx2x3qhucf"
      }
    },
    {
      "cell_type": "code",
      "source": [
        "df['PNEUMONIA'].value_counts()"
      ],
      "metadata": {
        "id": "w3kFcsnKh021",
        "colab": {
          "base_uri": "https://localhost:8080/"
        },
        "outputId": "3a6a84d2-c657-4206-fd4c-92737ea9364a"
      },
      "execution_count": 298,
      "outputs": [
        {
          "output_type": "execute_result",
          "data": {
            "text/plain": [
              "2     892534\n",
              "1     140038\n",
              "99     16003\n",
              "Name: PNEUMONIA, dtype: int64"
            ]
          },
          "metadata": {},
          "execution_count": 298
        }
      ]
    },
    {
      "cell_type": "code",
      "source": [
        "df = df[df['PNEUMONIA'] != 99]\n",
        "df['PNEUMONIA'].value_counts()"
      ],
      "metadata": {
        "id": "yXfVW3ezh8wO",
        "colab": {
          "base_uri": "https://localhost:8080/"
        },
        "outputId": "d547c4bb-d247-48c1-a82f-4205e8faa040"
      },
      "execution_count": 299,
      "outputs": [
        {
          "output_type": "execute_result",
          "data": {
            "text/plain": [
              "2    892534\n",
              "1    140038\n",
              "Name: PNEUMONIA, dtype: int64"
            ]
          },
          "metadata": {},
          "execution_count": 299
        }
      ]
    },
    {
      "cell_type": "code",
      "source": [
        "df['PNEUMONIA'].value_counts()\n",
        "df['PNEUMONIA'] = df['PNEUMONIA'].apply(lambda x: 0 if x == 2 else 1)"
      ],
      "metadata": {
        "id": "lKBtC0Szi_lO"
      },
      "execution_count": 300,
      "outputs": []
    },
    {
      "cell_type": "code",
      "source": [
        "plot_col_deaths_hist('PNEUMONIA')"
      ],
      "metadata": {
        "id": "zfsQ78tUjfY9",
        "colab": {
          "base_uri": "https://localhost:8080/",
          "height": 265
        },
        "outputId": "a5a99203-e587-4d11-e16d-d64606336c34"
      },
      "execution_count": 301,
      "outputs": [
        {
          "output_type": "display_data",
          "data": {
            "text/plain": [
              "<Figure size 432x288 with 1 Axes>"
            ],
            "image/png": "[encoded data removed]"
          },
          "metadata": {
            "needs_background": "light"
          }
        }
      ]
    },
    {
      "cell_type": "markdown",
      "source": [
        "**Observation:** Most of the people that had suffered pneumonia died. "
      ],
      "metadata": {
        "id": "xkOxrhwNkx__"
      }
    },
    {
      "cell_type": "markdown",
      "source": [
        "### Column `PREGNANT`\n",
        "\n",
        "Whether the patient is pregnant or not."
      ],
      "metadata": {
        "id": "a9Vuf3BJlXkC"
      }
    },
    {
      "cell_type": "code",
      "source": [
        "df['PREGNANT'].value_counts()"
      ],
      "metadata": {
        "id": "pRYQxEzvlb6o",
        "colab": {
          "base_uri": "https://localhost:8080/"
        },
        "outputId": "4f6e7cd3-375e-4a8a-d67e-040160d9f5e8"
      },
      "execution_count": 302,
      "outputs": [
        {
          "output_type": "execute_result",
          "data": {
            "text/plain": [
              "97    516154\n",
              "2     505159\n",
              "1       7870\n",
              "98      3389\n",
              "Name: PREGNANT, dtype: int64"
            ]
          },
          "metadata": {},
          "execution_count": 302
        }
      ]
    },
    {
      "cell_type": "markdown",
      "source": [
        "Most of the data is missing in this column, it should be dropped."
      ],
      "metadata": {
        "id": "BOtSZJlHmALQ"
      }
    },
    {
      "cell_type": "code",
      "source": [
        "df.drop(labels=['PREGNANT'], axis=1, inplace=True)"
      ],
      "metadata": {
        "id": "7nqZ47jQl-Vm"
      },
      "execution_count": 303,
      "outputs": []
    },
    {
      "cell_type": "markdown",
      "source": [
        "### Column `DIABETES`\n",
        "\n",
        "Whether the patient has diabetes or not."
      ],
      "metadata": {
        "id": "ztK2HVnqm8ux"
      }
    },
    {
      "cell_type": "code",
      "source": [
        "df['DIABETES'].value_counts()"
      ],
      "metadata": {
        "id": "NC8uqqyBm_SO",
        "colab": {
          "base_uri": "https://localhost:8080/"
        },
        "outputId": "6042c90d-8019-42d8-dbec-8cfef46a0f2d"
      },
      "execution_count": 304,
      "outputs": [
        {
          "output_type": "execute_result",
          "data": {
            "text/plain": [
              "2     905856\n",
              "1     123395\n",
              "98      3321\n",
              "Name: DIABETES, dtype: int64"
            ]
          },
          "metadata": {},
          "execution_count": 304
        }
      ]
    },
    {
      "cell_type": "code",
      "source": [
        "df = df[df['DIABETES'] != 98]\n",
        "df['DIABETES'] = df['DIABETES'].apply(lambda x: 0 if x == 2 else 1)"
      ],
      "metadata": {
        "id": "uX0OD8ITnqV2"
      },
      "execution_count": 305,
      "outputs": []
    },
    {
      "cell_type": "code",
      "source": [
        "df['DIABETES'].value_counts()"
      ],
      "metadata": {
        "id": "rXbexhMSoHNw",
        "colab": {
          "base_uri": "https://localhost:8080/"
        },
        "outputId": "0a839300-eba1-40d1-d08f-faf986e0c424"
      },
      "execution_count": 306,
      "outputs": [
        {
          "output_type": "execute_result",
          "data": {
            "text/plain": [
              "0    905856\n",
              "1    123395\n",
              "Name: DIABETES, dtype: int64"
            ]
          },
          "metadata": {},
          "execution_count": 306
        }
      ]
    },
    {
      "cell_type": "code",
      "source": [
        "plot_col_deaths_hist('DIABETES')"
      ],
      "metadata": {
        "id": "tx3ym9MOohnG",
        "colab": {
          "base_uri": "https://localhost:8080/",
          "height": 265
        },
        "outputId": "f9d33b2c-8a39-42e9-d6fb-0284bd6a15ef"
      },
      "execution_count": 307,
      "outputs": [
        {
          "output_type": "display_data",
          "data": {
            "text/plain": [
              "<Figure size 432x288 with 1 Axes>"
            ],
            "image/png": "[encoded data removed]"
          },
          "metadata": {
            "needs_background": "light"
          }
        }
      ]
    },
    {
      "cell_type": "markdown",
      "source": [
        "**Observation:** Most of the people that had been diagnosed with diabetes died."
      ],
      "metadata": {
        "id": "7gqV77uCoxMS"
      }
    },
    {
      "cell_type": "markdown",
      "source": [
        "### Column `COPD`\n",
        "\n",
        "Indicates whether the patient has Chronic obstructive pulmonary disease or not."
      ],
      "metadata": {
        "id": "icMye_8xqtlI"
      }
    },
    {
      "cell_type": "code",
      "source": [
        "df['COPD'].value_counts()"
      ],
      "metadata": {
        "id": "sZWyB-0pqyS2",
        "colab": {
          "base_uri": "https://localhost:8080/"
        },
        "outputId": "f602a3e6-16b2-4e80-df1b-6fb7938d26b3"
      },
      "execution_count": 308,
      "outputs": [
        {
          "output_type": "execute_result",
          "data": {
            "text/plain": [
              "2     1014380\n",
              "1       14507\n",
              "98        364\n",
              "Name: COPD, dtype: int64"
            ]
          },
          "metadata": {},
          "execution_count": 308
        }
      ]
    },
    {
      "cell_type": "code",
      "source": [
        "df = df[df['COPD'] != 98]\n",
        "df['COPD'] = df['COPD'].apply(lambda x: 0 if x == 2 else 1)"
      ],
      "metadata": {
        "id": "50ldA1shrKiO"
      },
      "execution_count": 309,
      "outputs": []
    },
    {
      "cell_type": "code",
      "source": [
        "df['COPD'].value_counts()"
      ],
      "metadata": {
        "id": "ZsgZP3xOrS5S",
        "colab": {
          "base_uri": "https://localhost:8080/"
        },
        "outputId": "382a672a-21aa-42d8-a92b-14fbcc3c9c93"
      },
      "execution_count": 310,
      "outputs": [
        {
          "output_type": "execute_result",
          "data": {
            "text/plain": [
              "0    1014380\n",
              "1      14507\n",
              "Name: COPD, dtype: int64"
            ]
          },
          "metadata": {},
          "execution_count": 310
        }
      ]
    },
    {
      "cell_type": "code",
      "source": [
        "plot_col_deaths_hist('COPD')"
      ],
      "metadata": {
        "id": "pW-wFDd_rwCe",
        "colab": {
          "base_uri": "https://localhost:8080/",
          "height": 265
        },
        "outputId": "7a9f55ad-7383-4c82-ad5d-79e1a5357316"
      },
      "execution_count": 311,
      "outputs": [
        {
          "output_type": "display_data",
          "data": {
            "text/plain": [
              "<Figure size 432x288 with 1 Axes>"
            ],
            "image/png": "[encoded data removed]"
          },
          "metadata": {
            "needs_background": "light"
          }
        }
      ]
    },
    {
      "cell_type": "markdown",
      "source": [
        "**Observation**: Most of the people that had been suffering from Chronic obstructive pulmonary disease died."
      ],
      "metadata": {
        "id": "QSsqfbmMr-5o"
      }
    },
    {
      "cell_type": "markdown",
      "source": [
        "### Column `ASTHMA`\n",
        "\n",
        "Whether the patient has asthma or not."
      ],
      "metadata": {
        "id": "oJXKjqK9sufo"
      }
    },
    {
      "cell_type": "code",
      "source": [
        "df['ASTHMA'].value_counts()"
      ],
      "metadata": {
        "id": "Uq7cLJ-as27G",
        "colab": {
          "base_uri": "https://localhost:8080/"
        },
        "outputId": "26aacc55-ab3d-4037-d7e4-5371bb25d49c"
      },
      "execution_count": 312,
      "outputs": [
        {
          "output_type": "execute_result",
          "data": {
            "text/plain": [
              "2     998084\n",
              "1      30623\n",
              "98       180\n",
              "Name: ASTHMA, dtype: int64"
            ]
          },
          "metadata": {},
          "execution_count": 312
        }
      ]
    },
    {
      "cell_type": "code",
      "source": [
        "df = df[df['ASTHMA'] != 98]\n",
        "df['ASTHMA'] = df['ASTHMA'].apply(lambda x: 0 if x == 2 else 1)"
      ],
      "metadata": {
        "id": "Lj9HDnRKtEDm"
      },
      "execution_count": 313,
      "outputs": []
    },
    {
      "cell_type": "code",
      "source": [
        "df['ASTHMA'].value_counts()"
      ],
      "metadata": {
        "id": "ytvldQELtKYe",
        "colab": {
          "base_uri": "https://localhost:8080/"
        },
        "outputId": "aa964191-e940-4bd0-cacd-1d23287aeb28"
      },
      "execution_count": 314,
      "outputs": [
        {
          "output_type": "execute_result",
          "data": {
            "text/plain": [
              "0    998084\n",
              "1     30623\n",
              "Name: ASTHMA, dtype: int64"
            ]
          },
          "metadata": {},
          "execution_count": 314
        }
      ]
    },
    {
      "cell_type": "code",
      "source": [
        "plot_col_deaths_hist('ASTHMA')"
      ],
      "metadata": {
        "id": "xnhwar0EtOY2",
        "colab": {
          "base_uri": "https://localhost:8080/",
          "height": 265
        },
        "outputId": "f091f975-279e-4736-df1a-ec80628ee3f9"
      },
      "execution_count": 315,
      "outputs": [
        {
          "output_type": "display_data",
          "data": {
            "text/plain": [
              "<Figure size 432x288 with 1 Axes>"
            ],
            "image/png": "[encoded data removed]"
          },
          "metadata": {
            "needs_background": "light"
          }
        }
      ]
    },
    {
      "cell_type": "code",
      "source": [
        "df[df['ASTHMA'] == 1].groupby(['DIED'])['DIED'].count()"
      ],
      "metadata": {
        "id": "qaZp33LItg3W",
        "colab": {
          "base_uri": "https://localhost:8080/"
        },
        "outputId": "9929a6c5-8fb0-45f8-9339-8895cc55a8e0"
      },
      "execution_count": 316,
      "outputs": [
        {
          "output_type": "execute_result",
          "data": {
            "text/plain": [
              "DIED\n",
              "0    29169\n",
              "1     1454\n",
              "Name: DIED, dtype: int64"
            ]
          },
          "metadata": {},
          "execution_count": 316
        }
      ]
    },
    {
      "cell_type": "code",
      "source": [
        "df[df['ASTHMA'] == 0].groupby(['DIED'])['DIED'].count()"
      ],
      "metadata": {
        "id": "SUIBUoJdts_N",
        "colab": {
          "base_uri": "https://localhost:8080/"
        },
        "outputId": "bbce30d6-f672-4b8b-dc7d-f64888e29140"
      },
      "execution_count": 317,
      "outputs": [
        {
          "output_type": "execute_result",
          "data": {
            "text/plain": [
              "DIED\n",
              "0    924191\n",
              "1     73893\n",
              "Name: DIED, dtype: int64"
            ]
          },
          "metadata": {},
          "execution_count": 317
        }
      ]
    },
    {
      "cell_type": "code",
      "source": [
        "df.drop(labels=['ASTHMA'], axis=1, inplace=True)"
      ],
      "metadata": {
        "id": "p6sqchvL-iBk"
      },
      "execution_count": 318,
      "outputs": []
    },
    {
      "cell_type": "markdown",
      "source": [
        "**Observation:** Asthma isn't correlated with death risk."
      ],
      "metadata": {
        "id": "isakU417ut9B"
      }
    },
    {
      "cell_type": "markdown",
      "source": [
        "### Column `INMSUPR`\n",
        "\n",
        "Whether the patient is immunosuppressed or not."
      ],
      "metadata": {
        "id": "E8RtlQ-2wL1B"
      }
    },
    {
      "cell_type": "code",
      "source": [
        "df['INMSUPR'].value_counts()"
      ],
      "metadata": {
        "id": "TGPHTCeywTaY",
        "colab": {
          "base_uri": "https://localhost:8080/"
        },
        "outputId": "17e52f19-5a9b-4909-befe-3e4a5ada6a47"
      },
      "execution_count": 319,
      "outputs": [
        {
          "output_type": "execute_result",
          "data": {
            "text/plain": [
              "2     1014482\n",
              "1       13717\n",
              "98        508\n",
              "Name: INMSUPR, dtype: int64"
            ]
          },
          "metadata": {},
          "execution_count": 319
        }
      ]
    },
    {
      "cell_type": "code",
      "source": [
        "df = df[df['INMSUPR'] != 98]\n",
        "df['INMSUPR'] = df['INMSUPR'].apply(lambda x: 0 if x == 2 else 1)"
      ],
      "metadata": {
        "id": "EZblsOzxxCNB"
      },
      "execution_count": 320,
      "outputs": []
    },
    {
      "cell_type": "code",
      "source": [
        "df['INMSUPR'].value_counts()"
      ],
      "metadata": {
        "id": "SFanbCKhxHOS",
        "colab": {
          "base_uri": "https://localhost:8080/"
        },
        "outputId": "a3e4d622-6577-4568-e1bd-04bb358e2e17"
      },
      "execution_count": 321,
      "outputs": [
        {
          "output_type": "execute_result",
          "data": {
            "text/plain": [
              "0    1014482\n",
              "1      13717\n",
              "Name: INMSUPR, dtype: int64"
            ]
          },
          "metadata": {},
          "execution_count": 321
        }
      ]
    },
    {
      "cell_type": "code",
      "source": [
        "plot_col_deaths_hist('INMSUPR')"
      ],
      "metadata": {
        "id": "UFa5S4YzxLFn",
        "colab": {
          "base_uri": "https://localhost:8080/",
          "height": 265
        },
        "outputId": "6d0a1516-e1f6-45cc-825e-e03816497736"
      },
      "execution_count": 322,
      "outputs": [
        {
          "output_type": "display_data",
          "data": {
            "text/plain": [
              "<Figure size 432x288 with 1 Axes>"
            ],
            "image/png": "[encoded data removed]"
          },
          "metadata": {
            "needs_background": "light"
          }
        }
      ]
    },
    {
      "cell_type": "markdown",
      "source": [
        "**Observation:** Immunosuppressed patients are at risk."
      ],
      "metadata": {
        "id": "erUc2eLm8J6U"
      }
    },
    {
      "cell_type": "markdown",
      "source": [
        "### Column `HIPERTENSION`\n",
        "\n",
        "Whether the patient has hypertension or not."
      ],
      "metadata": {
        "id": "5g5Iv0tL8dAU"
      }
    },
    {
      "cell_type": "code",
      "source": [
        "df['HIPERTENSION'].value_counts()"
      ],
      "metadata": {
        "id": "fb9XY8Ab8kKy",
        "colab": {
          "base_uri": "https://localhost:8080/"
        },
        "outputId": "a6b7013a-9cf4-41c0-cb61-e02ea398c0e7"
      },
      "execution_count": 323,
      "outputs": [
        {
          "output_type": "execute_result",
          "data": {
            "text/plain": [
              "2     867697\n",
              "1     160278\n",
              "98       224\n",
              "Name: HIPERTENSION, dtype: int64"
            ]
          },
          "metadata": {},
          "execution_count": 323
        }
      ]
    },
    {
      "cell_type": "code",
      "source": [
        "df = df[df['HIPERTENSION'] != 98]\n",
        "df['HIPERTENSION'] = df['HIPERTENSION'].apply(lambda x: 0 if x == 2 else 1)\n",
        "df['HIPERTENSION'].value_counts()"
      ],
      "metadata": {
        "id": "E9D6L7wP8yWa",
        "colab": {
          "base_uri": "https://localhost:8080/"
        },
        "outputId": "78868bab-8572-4325-877c-01919fb31bf8"
      },
      "execution_count": 324,
      "outputs": [
        {
          "output_type": "execute_result",
          "data": {
            "text/plain": [
              "0    867697\n",
              "1    160278\n",
              "Name: HIPERTENSION, dtype: int64"
            ]
          },
          "metadata": {},
          "execution_count": 324
        }
      ]
    },
    {
      "cell_type": "code",
      "source": [
        "plot_col_deaths_hist('HIPERTENSION')"
      ],
      "metadata": {
        "id": "258yAaA089tF",
        "colab": {
          "base_uri": "https://localhost:8080/",
          "height": 265
        },
        "outputId": "2bccf88d-f08c-4c11-c826-b6e9d1b6ff27"
      },
      "execution_count": 325,
      "outputs": [
        {
          "output_type": "display_data",
          "data": {
            "text/plain": [
              "<Figure size 432x288 with 1 Axes>"
            ],
            "image/png": "[encoded data removed]"
          },
          "metadata": {
            "needs_background": "light"
          }
        }
      ]
    },
    {
      "cell_type": "markdown",
      "source": [
        "**Observation:** Patients with hypertension are at risk."
      ],
      "metadata": {
        "id": "bjoBAVyY9IRN"
      }
    },
    {
      "cell_type": "markdown",
      "source": [
        "### Column `CARDIOVASCULAR`\n",
        "\n",
        "Whether the patient has heart or blood vessels related disease."
      ],
      "metadata": {
        "id": "SNLlV0Nt9bHF"
      }
    },
    {
      "cell_type": "code",
      "source": [
        "df['CARDIOVASCULAR'].value_counts()"
      ],
      "metadata": {
        "id": "xmTd2gC09wKq",
        "colab": {
          "base_uri": "https://localhost:8080/"
        },
        "outputId": "aeb997b5-4cb9-40d8-ad1e-e4bf038d8690"
      },
      "execution_count": 326,
      "outputs": [
        {
          "output_type": "execute_result",
          "data": {
            "text/plain": [
              "2     1007507\n",
              "1       20254\n",
              "98        214\n",
              "Name: CARDIOVASCULAR, dtype: int64"
            ]
          },
          "metadata": {},
          "execution_count": 326
        }
      ]
    },
    {
      "cell_type": "code",
      "source": [
        "df = df[df['CARDIOVASCULAR'] != 98]\n",
        "df['CARDIOVASCULAR'] = df['CARDIOVASCULAR'].apply(lambda x: 0 if x == 2 else 1)\n",
        "df['CARDIOVASCULAR'].value_counts()"
      ],
      "metadata": {
        "id": "S3QE6Ggs95qJ",
        "colab": {
          "base_uri": "https://localhost:8080/"
        },
        "outputId": "a8fcb92c-f08d-4940-cd17-bc8c84460bf5"
      },
      "execution_count": 327,
      "outputs": [
        {
          "output_type": "execute_result",
          "data": {
            "text/plain": [
              "0    1007507\n",
              "1      20254\n",
              "Name: CARDIOVASCULAR, dtype: int64"
            ]
          },
          "metadata": {},
          "execution_count": 327
        }
      ]
    },
    {
      "cell_type": "code",
      "source": [
        "plot_col_deaths_hist('CARDIOVASCULAR')"
      ],
      "metadata": {
        "id": "udwhFWGw-v8F",
        "colab": {
          "base_uri": "https://localhost:8080/",
          "height": 265
        },
        "outputId": "03eb939a-6939-436d-d4f2-e31af045ce15"
      },
      "execution_count": 328,
      "outputs": [
        {
          "output_type": "display_data",
          "data": {
            "text/plain": [
              "<Figure size 432x288 with 1 Axes>"
            ],
            "image/png": "[encoded data removed]"
          },
          "metadata": {
            "needs_background": "light"
          }
        }
      ]
    },
    {
      "cell_type": "markdown",
      "source": [
        "**Observation:** Patients with heart or blood vessels related diseases are at risk."
      ],
      "metadata": {
        "id": "dUPP_4vn-5ZF"
      }
    },
    {
      "cell_type": "markdown",
      "source": [
        "### Column `RENAL_CHRONIC`\n",
        "\n",
        "Whether the patient has chronic renal disease or not."
      ],
      "metadata": {
        "id": "qPbvnGaA_SC1"
      }
    },
    {
      "cell_type": "code",
      "source": [
        "df['RENAL_CHRONIC'].value_counts()"
      ],
      "metadata": {
        "id": "B9ZzZfKl_a3x",
        "colab": {
          "base_uri": "https://localhost:8080/"
        },
        "outputId": "c78f98c3-e4e0-408e-9e0f-f920a4722724"
      },
      "execution_count": 329,
      "outputs": [
        {
          "output_type": "execute_result",
          "data": {
            "text/plain": [
              "2     1009157\n",
              "1       18445\n",
              "98        159\n",
              "Name: RENAL_CHRONIC, dtype: int64"
            ]
          },
          "metadata": {},
          "execution_count": 329
        }
      ]
    },
    {
      "cell_type": "code",
      "source": [
        "df = df[df['RENAL_CHRONIC'] != 98]\n",
        "df['RENAL_CHRONIC'] = df['RENAL_CHRONIC'].apply(lambda x: 0 if x == 2 else 1)\n",
        "df['RENAL_CHRONIC'].value_counts()"
      ],
      "metadata": {
        "id": "mAahYgiV_lVZ",
        "colab": {
          "base_uri": "https://localhost:8080/"
        },
        "outputId": "bc7287ac-5f09-47a0-a73c-007057ba3d1f"
      },
      "execution_count": 330,
      "outputs": [
        {
          "output_type": "execute_result",
          "data": {
            "text/plain": [
              "0    1009157\n",
              "1      18445\n",
              "Name: RENAL_CHRONIC, dtype: int64"
            ]
          },
          "metadata": {},
          "execution_count": 330
        }
      ]
    },
    {
      "cell_type": "code",
      "source": [
        "plot_col_deaths_hist('RENAL_CHRONIC')"
      ],
      "metadata": {
        "id": "-wTUqDDf_rx5",
        "colab": {
          "base_uri": "https://localhost:8080/",
          "height": 265
        },
        "outputId": "c820c0dc-6cf9-4c72-874e-e1ff6c04432f"
      },
      "execution_count": 331,
      "outputs": [
        {
          "output_type": "display_data",
          "data": {
            "text/plain": [
              "<Figure size 432x288 with 1 Axes>"
            ],
            "image/png": "[encoded data removed]"
          },
          "metadata": {
            "needs_background": "light"
          }
        }
      ]
    },
    {
      "cell_type": "markdown",
      "source": [
        "**Observation:** Patients with chronic renal disease are at risk."
      ],
      "metadata": {
        "id": "fqKYq_eY_901"
      }
    },
    {
      "cell_type": "markdown",
      "source": [
        "### Column `OTHER_DISEASE`\n",
        "\n",
        "Whether the patient has other disease or not."
      ],
      "metadata": {
        "id": "iTlVMj1eAXj9"
      }
    },
    {
      "cell_type": "code",
      "source": [
        "df['OTHER_DISEASE'].value_counts()"
      ],
      "metadata": {
        "id": "_TWvz9TfAkpi",
        "colab": {
          "base_uri": "https://localhost:8080/"
        },
        "outputId": "a216b931-0df3-4391-cf86-75e59b53e6d0"
      },
      "execution_count": 332,
      "outputs": [
        {
          "output_type": "execute_result",
          "data": {
            "text/plain": [
              "2     998733\n",
              "1      27157\n",
              "98      1712\n",
              "Name: OTHER_DISEASE, dtype: int64"
            ]
          },
          "metadata": {},
          "execution_count": 332
        }
      ]
    },
    {
      "cell_type": "code",
      "source": [
        "df = df[df['OTHER_DISEASE'] != 98]\n",
        "df['OTHER_DISEASE'] = df['OTHER_DISEASE'].apply(lambda x: 0 if x == 2 else 1)\n",
        "df['OTHER_DISEASE'].value_counts()"
      ],
      "metadata": {
        "id": "hwMKb_ttAoAS",
        "colab": {
          "base_uri": "https://localhost:8080/"
        },
        "outputId": "e5c3cdcd-20bf-43de-b592-1b1d26e00168"
      },
      "execution_count": 333,
      "outputs": [
        {
          "output_type": "execute_result",
          "data": {
            "text/plain": [
              "0    998733\n",
              "1     27157\n",
              "Name: OTHER_DISEASE, dtype: int64"
            ]
          },
          "metadata": {},
          "execution_count": 333
        }
      ]
    },
    {
      "cell_type": "code",
      "source": [
        "plot_col_deaths_hist('OTHER_DISEASE')"
      ],
      "metadata": {
        "id": "1aAevNHsArZS",
        "colab": {
          "base_uri": "https://localhost:8080/",
          "height": 265
        },
        "outputId": "3a640347-c3da-4752-ee59-622625235164"
      },
      "execution_count": 334,
      "outputs": [
        {
          "output_type": "display_data",
          "data": {
            "text/plain": [
              "<Figure size 432x288 with 1 Axes>"
            ],
            "image/png": "[encoded data removed]"
          },
          "metadata": {
            "needs_background": "light"
          }
        }
      ]
    },
    {
      "cell_type": "markdown",
      "source": [
        "**Observation:** Patients with other diseases are at risk."
      ],
      "metadata": {
        "id": "XTDXZ7w4A8FV"
      }
    },
    {
      "cell_type": "markdown",
      "source": [
        "### Column `OBESITY`\n",
        "\n",
        "Whether the patient is obese or not."
      ],
      "metadata": {
        "id": "ucWjy7S1BQfg"
      }
    },
    {
      "cell_type": "code",
      "source": [
        "df['OBESITY'].value_counts()"
      ],
      "metadata": {
        "id": "-b7qe4jsAzXy",
        "colab": {
          "base_uri": "https://localhost:8080/"
        },
        "outputId": "da8f5863-e278-4cb3-f12f-59bc42e38c71"
      },
      "execution_count": 335,
      "outputs": [
        {
          "output_type": "execute_result",
          "data": {
            "text/plain": [
              "2     868413\n",
              "1     157104\n",
              "98       373\n",
              "Name: OBESITY, dtype: int64"
            ]
          },
          "metadata": {},
          "execution_count": 335
        }
      ]
    },
    {
      "cell_type": "code",
      "source": [
        "df = df[df['OBESITY'] != 98]\n",
        "df['OBESITY'] = df['OBESITY'].apply(lambda x: 0 if x == 2 else 1)\n",
        "df['OBESITY'].value_counts()"
      ],
      "metadata": {
        "id": "ADhbk9vmBiEZ",
        "colab": {
          "base_uri": "https://localhost:8080/"
        },
        "outputId": "2a57dd56-235c-4bf9-ef5a-b841bf582b2f"
      },
      "execution_count": 336,
      "outputs": [
        {
          "output_type": "execute_result",
          "data": {
            "text/plain": [
              "0    868413\n",
              "1    157104\n",
              "Name: OBESITY, dtype: int64"
            ]
          },
          "metadata": {},
          "execution_count": 336
        }
      ]
    },
    {
      "cell_type": "code",
      "source": [
        "plot_col_deaths_hist('OBESITY')"
      ],
      "metadata": {
        "id": "35kbpDtKBpXC",
        "colab": {
          "base_uri": "https://localhost:8080/",
          "height": 265
        },
        "outputId": "9c9d52b0-d3b4-4f4a-d323-3e6c0ac79245"
      },
      "execution_count": 337,
      "outputs": [
        {
          "output_type": "display_data",
          "data": {
            "text/plain": [
              "<Figure size 432x288 with 1 Axes>"
            ],
            "image/png": "[encoded data removed]"
          },
          "metadata": {
            "needs_background": "light"
          }
        }
      ]
    },
    {
      "cell_type": "markdown",
      "source": [
        "**Observation**: Obese patients are at risk."
      ],
      "metadata": {
        "id": "wbfS9lSpBx4w"
      }
    },
    {
      "cell_type": "markdown",
      "source": [
        "### Column `TOBACCO`\n",
        "\n",
        "Whether the patient is a tobacco user."
      ],
      "metadata": {
        "id": "JqLadeWDCExD"
      }
    },
    {
      "cell_type": "code",
      "source": [
        "df['TOBACCO'].value_counts()"
      ],
      "metadata": {
        "id": "NxhKmX7dB0Da",
        "colab": {
          "base_uri": "https://localhost:8080/"
        },
        "outputId": "2118152c-19ed-466a-9e8f-0f2e066b0fc6"
      },
      "execution_count": 338,
      "outputs": [
        {
          "output_type": "execute_result",
          "data": {
            "text/plain": [
              "2     942477\n",
              "1      82675\n",
              "98       365\n",
              "Name: TOBACCO, dtype: int64"
            ]
          },
          "metadata": {},
          "execution_count": 338
        }
      ]
    },
    {
      "cell_type": "code",
      "source": [
        "df = df[df['TOBACCO'] != 98]\n",
        "df['TOBACCO'] = df['TOBACCO'].apply(lambda x: 0 if x == 2 else 1)\n",
        "df['TOBACCO'].value_counts()"
      ],
      "metadata": {
        "id": "3CSQefFhCOhR",
        "colab": {
          "base_uri": "https://localhost:8080/"
        },
        "outputId": "fe285814-0843-4d7e-d6a8-ad71e82444c0"
      },
      "execution_count": 339,
      "outputs": [
        {
          "output_type": "execute_result",
          "data": {
            "text/plain": [
              "0    942477\n",
              "1     82675\n",
              "Name: TOBACCO, dtype: int64"
            ]
          },
          "metadata": {},
          "execution_count": 339
        }
      ]
    },
    {
      "cell_type": "code",
      "source": [
        "plot_col_deaths_hist('TOBACCO')"
      ],
      "metadata": {
        "id": "rYh4r2eICVO8",
        "colab": {
          "base_uri": "https://localhost:8080/",
          "height": 265
        },
        "outputId": "08a6770c-19c2-4318-c078-b0c0e5ccc7e8"
      },
      "execution_count": 340,
      "outputs": [
        {
          "output_type": "display_data",
          "data": {
            "text/plain": [
              "<Figure size 432x288 with 1 Axes>"
            ],
            "image/png": "[encoded data removed]"
          },
          "metadata": {
            "needs_background": "light"
          }
        }
      ]
    },
    {
      "cell_type": "markdown",
      "source": [
        "**Observation**: Smoking isn't highly correlated with death."
      ],
      "metadata": {
        "id": "WrtxGzyGCrxO"
      }
    },
    {
      "cell_type": "markdown",
      "source": [
        "### Column `USMER`\n",
        "\n",
        "Indicates whether the patient treated medical units of the first, second or third level."
      ],
      "metadata": {
        "id": "L0AdRSP9DRK-"
      }
    },
    {
      "cell_type": "code",
      "source": [
        "df['USMER'].value_counts()"
      ],
      "metadata": {
        "id": "fz_dFsQICXiy",
        "colab": {
          "base_uri": "https://localhost:8080/"
        },
        "outputId": "1f60f52e-319c-4ee0-d6db-83873b050cff"
      },
      "execution_count": 341,
      "outputs": [
        {
          "output_type": "execute_result",
          "data": {
            "text/plain": [
              "2    658255\n",
              "1    366897\n",
              "Name: USMER, dtype: int64"
            ]
          },
          "metadata": {},
          "execution_count": 341
        }
      ]
    },
    {
      "cell_type": "code",
      "source": [
        "df['USMER'] = df['USMER'].apply(lambda x: 0 if x == 2 else 1)\n",
        "df['USMER'].value_counts()"
      ],
      "metadata": {
        "id": "QaabTUQKDYlq",
        "colab": {
          "base_uri": "https://localhost:8080/"
        },
        "outputId": "708e1ff1-95ff-43aa-8384-e53c86f69d0b"
      },
      "execution_count": 342,
      "outputs": [
        {
          "output_type": "execute_result",
          "data": {
            "text/plain": [
              "0    658255\n",
              "1    366897\n",
              "Name: USMER, dtype: int64"
            ]
          },
          "metadata": {},
          "execution_count": 342
        }
      ]
    },
    {
      "cell_type": "code",
      "source": [
        "plot_col_deaths_hist('USMER')"
      ],
      "metadata": {
        "id": "-dwn9sdIDhY6",
        "colab": {
          "base_uri": "https://localhost:8080/",
          "height": 265
        },
        "outputId": "210fbffc-647e-4dab-ed9e-a9716267efab"
      },
      "execution_count": 343,
      "outputs": [
        {
          "output_type": "display_data",
          "data": {
            "text/plain": [
              "<Figure size 432x288 with 1 Axes>"
            ],
            "image/png": "[encoded data removed]"
          },
          "metadata": {
            "needs_background": "light"
          }
        }
      ]
    },
    {
      "cell_type": "markdown",
      "source": [
        "**Observation:** Patients treated in medical units of the third level are at risk."
      ],
      "metadata": {
        "id": "rWmVNyIpEBru"
      }
    },
    {
      "cell_type": "markdown",
      "source": [
        "# Column `MEDICAL_UNIT`"
      ],
      "metadata": {
        "id": "kLN0kfE3ERjG"
      }
    },
    {
      "cell_type": "code",
      "source": [
        "df['MEDICAL_UNIT'].value_counts()"
      ],
      "metadata": {
        "id": "zVMUnVV1Dksi",
        "colab": {
          "base_uri": "https://localhost:8080/"
        },
        "outputId": "9fefe8ee-9002-4c00-cfaf-cdb51d765592"
      },
      "execution_count": 344,
      "outputs": [
        {
          "output_type": "execute_result",
          "data": {
            "text/plain": [
              "12    591811\n",
              "4     307177\n",
              "6      37868\n",
              "9      37384\n",
              "3      18660\n",
              "8      10097\n",
              "10      7543\n",
              "5       7062\n",
              "11      5556\n",
              "7        871\n",
              "13       813\n",
              "2        159\n",
              "1        151\n",
              "Name: MEDICAL_UNIT, dtype: int64"
            ]
          },
          "metadata": {},
          "execution_count": 344
        }
      ]
    },
    {
      "cell_type": "code",
      "source": [
        "plot_hist_col('MEDICAL_UNIT', 'type of institution of the National Health System that provided the care', kde=False)"
      ],
      "metadata": {
        "id": "rhR29EReEaAa",
        "colab": {
          "base_uri": "https://localhost:8080/",
          "height": 296
        },
        "outputId": "18c2a375-4174-4a93-9169-c95240486d6e"
      },
      "execution_count": 345,
      "outputs": [
        {
          "output_type": "display_data",
          "data": {
            "text/plain": [
              "<Figure size 432x288 with 1 Axes>"
            ],
            "image/png": "[encoded data removed]"
          },
          "metadata": {
            "needs_background": "light"
          }
        }
      ]
    },
    {
      "cell_type": "code",
      "source": [
        "plot_col_deaths_hist('MEDICAL_UNIT')"
      ],
      "metadata": {
        "id": "0TxEw95vEmCC",
        "colab": {
          "base_uri": "https://localhost:8080/",
          "height": 265
        },
        "outputId": "d2c4a647-2629-4f12-d1d0-660dcf215201"
      },
      "execution_count": 346,
      "outputs": [
        {
          "output_type": "display_data",
          "data": {
            "text/plain": [
              "<Figure size 432x288 with 1 Axes>"
            ],
            "image/png": "[encoded data removed]"
          },
          "metadata": {
            "needs_background": "light"
          }
        }
      ]
    },
    {
      "cell_type": "code",
      "source": [
        "df = pd.get_dummies(df, columns=['MEDICAL_UNIT'], prefix='MEDICAL_UNIT', prefix_sep='_')\n",
        "df.head()"
      ],
      "metadata": {
        "id": "U06nXctHE6K6",
        "colab": {
          "base_uri": "https://localhost:8080/",
          "height": 300
        },
        "outputId": "32a5b05d-ea21-41d9-975b-b2e71dbe58b1"
      },
      "execution_count": 347,
      "outputs": [
        {
          "output_type": "execute_result",
          "data": {
            "text/plain": [
              "   USMER  INTUBED  PNEUMONIA  AGE  DIABETES  COPD  INMSUPR  HIPERTENSION  \\\n",
              "0      0       97          1   65         0     0        0             1   \n",
              "1      0       97          1   72         0     0        0             1   \n",
              "2      0        1          0   55         1     0        0             0   \n",
              "3      0       97          0   53         0     0        0             0   \n",
              "4      0       97          0   68         1     0        0             1   \n",
              "\n",
              "   OTHER_DISEASE  CARDIOVASCULAR  ...  MEDICAL_UNIT_4  MEDICAL_UNIT_5  \\\n",
              "0              0               0  ...               0               0   \n",
              "1              0               0  ...               0               0   \n",
              "2              0               0  ...               0               0   \n",
              "3              0               0  ...               0               0   \n",
              "4              0               0  ...               0               0   \n",
              "\n",
              "   MEDICAL_UNIT_6  MEDICAL_UNIT_7  MEDICAL_UNIT_8  MEDICAL_UNIT_9  \\\n",
              "0               0               0               0               0   \n",
              "1               0               0               0               0   \n",
              "2               0               0               0               0   \n",
              "3               0               0               0               0   \n",
              "4               0               0               0               0   \n",
              "\n",
              "   MEDICAL_UNIT_10  MEDICAL_UNIT_11  MEDICAL_UNIT_12  MEDICAL_UNIT_13  \n",
              "0                0                0                0                0  \n",
              "1                0                0                0                0  \n",
              "2                0                0                0                0  \n",
              "3                0                0                0                0  \n",
              "4                0                0                0                0  \n",
              "\n",
              "[5 rows x 31 columns]"
            ],
            "text/html": [
              "\n",
              "  <div id=\"df-e35ea597-f4a2-48b9-8970-21854191626f\">\n",
              "    <div class=\"colab-df-container\">\n",
              "      <div>\n",
              "<style scoped>\n",
              "    .dataframe tbody tr th:only-of-type {\n",
              "        vertical-align: middle;\n",
              "    }\n",
              "\n",
              "    .dataframe tbody tr th {\n",
              "        vertical-align: top;\n",
              "    }\n",
              "\n",
              "    .dataframe thead th {\n",
              "        text-align: right;\n",
              "    }\n",
              "</style>\n",
              "<table border=\"1\" class=\"dataframe\">\n",
              "  <thead>\n",
              "    <tr style=\"text-align: right;\">\n",
              "      <th></th>\n",
              "      <th>USMER</th>\n",
              "      <th>INTUBED</th>\n",
              "      <th>PNEUMONIA</th>\n",
              "      <th>AGE</th>\n",
              "      <th>DIABETES</th>\n",
              "      <th>COPD</th>\n",
              "      <th>INMSUPR</th>\n",
              "      <th>HIPERTENSION</th>\n",
              "      <th>OTHER_DISEASE</th>\n",
              "      <th>CARDIOVASCULAR</th>\n",
              "      <th>...</th>\n",
              "      <th>MEDICAL_UNIT_4</th>\n",
              "      <th>MEDICAL_UNIT_5</th>\n",
              "      <th>MEDICAL_UNIT_6</th>\n",
              "      <th>MEDICAL_UNIT_7</th>\n",
              "      <th>MEDICAL_UNIT_8</th>\n",
              "      <th>MEDICAL_UNIT_9</th>\n",
              "      <th>MEDICAL_UNIT_10</th>\n",
              "      <th>MEDICAL_UNIT_11</th>\n",
              "      <th>MEDICAL_UNIT_12</th>\n",
              "      <th>MEDICAL_UNIT_13</th>\n",
              "    </tr>\n",
              "  </thead>\n",
              "  <tbody>\n",
              "    <tr>\n",
              "      <th>0</th>\n",
              "      <td>0</td>\n",
              "      <td>97</td>\n",
              "      <td>1</td>\n",
              "      <td>65</td>\n",
              "      <td>0</td>\n",
              "      <td>0</td>\n",
              "      <td>0</td>\n",
              "      <td>1</td>\n",
              "      <td>0</td>\n",
              "      <td>0</td>\n",
              "      <td>...</td>\n",
              "      <td>0</td>\n",
              "      <td>0</td>\n",
              "      <td>0</td>\n",
              "      <td>0</td>\n",
              "      <td>0</td>\n",
              "      <td>0</td>\n",
              "      <td>0</td>\n",
              "      <td>0</td>\n",
              "      <td>0</td>\n",
              "      <td>0</td>\n",
              "    </tr>\n",
              "    <tr>\n",
              "      <th>1</th>\n",
              "      <td>0</td>\n",
              "      <td>97</td>\n",
              "      <td>1</td>\n",
              "      <td>72</td>\n",
              "      <td>0</td>\n",
              "      <td>0</td>\n",
              "      <td>0</td>\n",
              "      <td>1</td>\n",
              "      <td>0</td>\n",
              "      <td>0</td>\n",
              "      <td>...</td>\n",
              "      <td>0</td>\n",
              "      <td>0</td>\n",
              "      <td>0</td>\n",
              "      <td>0</td>\n",
              "      <td>0</td>\n",
              "      <td>0</td>\n",
              "      <td>0</td>\n",
              "      <td>0</td>\n",
              "      <td>0</td>\n",
              "      <td>0</td>\n",
              "    </tr>\n",
              "    <tr>\n",
              "      <th>2</th>\n",
              "      <td>0</td>\n",
              "      <td>1</td>\n",
              "      <td>0</td>\n",
              "      <td>55</td>\n",
              "      <td>1</td>\n",
              "      <td>0</td>\n",
              "      <td>0</td>\n",
              "      <td>0</td>\n",
              "      <td>0</td>\n",
              "      <td>0</td>\n",
              "      <td>...</td>\n",
              "      <td>0</td>\n",
              "      <td>0</td>\n",
              "      <td>0</td>\n",
              "      <td>0</td>\n",
              "      <td>0</td>\n",
              "      <td>0</td>\n",
              "      <td>0</td>\n",
              "      <td>0</td>\n",
              "      <td>0</td>\n",
              "      <td>0</td>\n",
              "    </tr>\n",
              "    <tr>\n",
              "      <th>3</th>\n",
              "      <td>0</td>\n",
              "      <td>97</td>\n",
              "      <td>0</td>\n",
              "      <td>53</td>\n",
              "      <td>0</td>\n",
              "      <td>0</td>\n",
              "      <td>0</td>\n",
              "      <td>0</td>\n",
              "      <td>0</td>\n",
              "      <td>0</td>\n",
              "      <td>...</td>\n",
              "      <td>0</td>\n",
              "      <td>0</td>\n",
              "      <td>0</td>\n",
              "      <td>0</td>\n",
              "      <td>0</td>\n",
              "      <td>0</td>\n",
              "      <td>0</td>\n",
              "      <td>0</td>\n",
              "      <td>0</td>\n",
              "      <td>0</td>\n",
              "    </tr>\n",
              "    <tr>\n",
              "      <th>4</th>\n",
              "      <td>0</td>\n",
              "      <td>97</td>\n",
              "      <td>0</td>\n",
              "      <td>68</td>\n",
              "      <td>1</td>\n",
              "      <td>0</td>\n",
              "      <td>0</td>\n",
              "      <td>1</td>\n",
              "      <td>0</td>\n",
              "      <td>0</td>\n",
              "      <td>...</td>\n",
              "      <td>0</td>\n",
              "      <td>0</td>\n",
              "      <td>0</td>\n",
              "      <td>0</td>\n",
              "      <td>0</td>\n",
              "      <td>0</td>\n",
              "      <td>0</td>\n",
              "      <td>0</td>\n",
              "      <td>0</td>\n",
              "      <td>0</td>\n",
              "    </tr>\n",
              "  </tbody>\n",
              "</table>\n",
              "<p>5 rows × 31 columns</p>\n",
              "</div>\n",
              "      <button class=\"colab-df-convert\" onclick=\"convertToInteractive('df-e35ea597-f4a2-48b9-8970-21854191626f')\"\n",
              "              title=\"Convert this dataframe to an interactive table.\"\n",
              "              style=\"display:none;\">\n",
              "        \n",
              "  <svg xmlns=\"http://www.w3.org/2000/svg\" height=\"24px\"viewBox=\"0 0 24 24\"\n",
              "       width=\"24px\">\n",
              "    <path d=\"M0 0h24v24H0V0z\" fill=\"none\"/>\n",
              "    <path d=\"M18.56 5.44l.94 2.06.94-2.06 2.06-.94-2.06-.94-.94-2.06-.94 2.06-2.06.94zm-11 1L8.5 8.5l.94-2.06 2.06-.94-2.06-.94L8.5 2.5l-.94 2.06-2.06.94zm10 10l.94 2.06.94-2.06 2.06-.94-2.06-.94-.94-2.06-.94 2.06-2.06.94z\"/><path d=\"M17.41 7.96l-1.37-1.37c-.4-.4-.92-.59-1.43-.59-.52 0-1.04.2-1.43.59L10.3 9.45l-7.72 7.72c-.78.78-.78 2.05 0 2.83L4 21.41c.39.39.9.59 1.41.59.51 0 1.02-.2 1.41-.59l7.78-7.78 2.81-2.81c.8-.78.8-2.07 0-2.86zM5.41 20L4 18.59l7.72-7.72 1.47 1.35L5.41 20z\"/>\n",
              "  </svg>\n",
              "      </button>\n",
              "      \n",
              "  <style>\n",
              "    .colab-df-container {\n",
              "      display:flex;\n",
              "      flex-wrap:wrap;\n",
              "      gap: 12px;\n",
              "    }\n",
              "\n",
              "    .colab-df-convert {\n",
              "      background-color: #E8F0FE;\n",
              "      border: none;\n",
              "      border-radius: 50%;\n",
              "      cursor: pointer;\n",
              "      display: none;\n",
              "      fill: #1967D2;\n",
              "      height: 32px;\n",
              "      padding: 0 0 0 0;\n",
              "      width: 32px;\n",
              "    }\n",
              "\n",
              "    .colab-df-convert:hover {\n",
              "      background-color: #E2EBFA;\n",
              "      box-shadow: 0px 1px 2px rgba(60, 64, 67, 0.3), 0px 1px 3px 1px rgba(60, 64, 67, 0.15);\n",
              "      fill: #174EA6;\n",
              "    }\n",
              "\n",
              "    [theme=dark] .colab-df-convert {\n",
              "      background-color: #3B4455;\n",
              "      fill: #D2E3FC;\n",
              "    }\n",
              "\n",
              "    [theme=dark] .colab-df-convert:hover {\n",
              "      background-color: #434B5C;\n",
              "      box-shadow: 0px 1px 3px 1px rgba(0, 0, 0, 0.15);\n",
              "      filter: drop-shadow(0px 1px 2px rgba(0, 0, 0, 0.3));\n",
              "      fill: #FFFFFF;\n",
              "    }\n",
              "  </style>\n",
              "\n",
              "      <script>\n",
              "        const buttonEl =\n",
              "          document.querySelector('#df-e35ea597-f4a2-48b9-8970-21854191626f button.colab-df-convert');\n",
              "        buttonEl.style.display =\n",
              "          google.colab.kernel.accessAllowed ? 'block' : 'none';\n",
              "\n",
              "        async function convertToInteractive(key) {\n",
              "          const element = document.querySelector('#df-e35ea597-f4a2-48b9-8970-21854191626f');\n",
              "          const dataTable =\n",
              "            await google.colab.kernel.invokeFunction('convertToInteractive',\n",
              "                                                     [key], {});\n",
              "          if (!dataTable) return;\n",
              "\n",
              "          const docLinkHtml = 'Like what you see? Visit the ' +\n",
              "            '<a target=\"_blank\" href=https://colab.research.google.com/notebooks/data_table.ipynb>data table notebook</a>'\n",
              "            + ' to learn more about interactive tables.';\n",
              "          element.innerHTML = '';\n",
              "          dataTable['output_type'] = 'display_data';\n",
              "          await google.colab.output.renderOutput(dataTable, element);\n",
              "          const docLink = document.createElement('div');\n",
              "          docLink.innerHTML = docLinkHtml;\n",
              "          element.appendChild(docLink);\n",
              "        }\n",
              "      </script>\n",
              "    </div>\n",
              "  </div>\n",
              "  "
            ]
          },
          "metadata": {},
          "execution_count": 347
        }
      ]
    },
    {
      "cell_type": "markdown",
      "source": [
        "### Column `INTUBED`\n",
        "\n",
        "Whether the patient was connected to the ventilator."
      ],
      "metadata": {
        "id": "TFOruEr6F5R2"
      }
    },
    {
      "cell_type": "code",
      "source": [
        "df['INTUBED'].value_counts()"
      ],
      "metadata": {
        "id": "qLZcS75CGAZh",
        "colab": {
          "base_uri": "https://localhost:8080/"
        },
        "outputId": "8f898832-9b4e-42e5-a16b-b207da90036f"
      },
      "execution_count": 348,
      "outputs": [
        {
          "output_type": "execute_result",
          "data": {
            "text/plain": [
              "97    833253\n",
              "2     156712\n",
              "1      33034\n",
              "99      2153\n",
              "Name: INTUBED, dtype: int64"
            ]
          },
          "metadata": {},
          "execution_count": 348
        }
      ]
    },
    {
      "cell_type": "code",
      "source": [
        "df['INTUBED'] = df['INTUBED'].apply(lambda x: 1 if x == 1 else 0)\n",
        "df['INTUBED'].value_counts()"
      ],
      "metadata": {
        "id": "2AaFf50iGedm",
        "colab": {
          "base_uri": "https://localhost:8080/"
        },
        "outputId": "4b9ca36d-823c-49a6-8dbe-46c5bebca88a"
      },
      "execution_count": 349,
      "outputs": [
        {
          "output_type": "execute_result",
          "data": {
            "text/plain": [
              "0    992118\n",
              "1     33034\n",
              "Name: INTUBED, dtype: int64"
            ]
          },
          "metadata": {},
          "execution_count": 349
        }
      ]
    },
    {
      "cell_type": "code",
      "source": [
        "plot_col_deaths_hist('INTUBED')"
      ],
      "metadata": {
        "id": "nYmFMG6oI-xo",
        "colab": {
          "base_uri": "https://localhost:8080/",
          "height": 265
        },
        "outputId": "086c4847-bc06-4a73-f80e-21a32ae5690e"
      },
      "execution_count": 350,
      "outputs": [
        {
          "output_type": "display_data",
          "data": {
            "text/plain": [
              "<Figure size 432x288 with 1 Axes>"
            ],
            "image/png": "[encoded data removed]"
          },
          "metadata": {
            "needs_background": "light"
          }
        }
      ]
    },
    {
      "cell_type": "markdown",
      "source": [
        "**Observation**: Patients that had been connected to a ventilator mostly died."
      ],
      "metadata": {
        "id": "uYR2MlNqJXEH"
      }
    },
    {
      "cell_type": "markdown",
      "source": [
        "### Column `ICU`\n",
        "\n",
        "Indicates whether the patient had been admitted to an Intensive Care Unit."
      ],
      "metadata": {
        "id": "nbXj2G0BG1ge"
      }
    },
    {
      "cell_type": "code",
      "source": [
        "df['ICU'].value_counts()"
      ],
      "metadata": {
        "id": "bYiZjDR3G8Uy",
        "colab": {
          "base_uri": "https://localhost:8080/"
        },
        "outputId": "3031a440-ede6-44a0-a558-4192a0fa78e1"
      },
      "execution_count": 351,
      "outputs": [
        {
          "output_type": "execute_result",
          "data": {
            "text/plain": [
              "97    833253\n",
              "2     173154\n",
              "1      16434\n",
              "99      2311\n",
              "Name: ICU, dtype: int64"
            ]
          },
          "metadata": {},
          "execution_count": 351
        }
      ]
    },
    {
      "cell_type": "code",
      "source": [
        "df['ICU'] = df['ICU'].apply(lambda x: 1 if x == 1 else 0)\n",
        "df['ICU'].value_counts()"
      ],
      "metadata": {
        "id": "qjl0zsRSJKZu",
        "colab": {
          "base_uri": "https://localhost:8080/"
        },
        "outputId": "c6e90b61-7f5d-40f4-ba9f-ce89bfb0d2fb"
      },
      "execution_count": 352,
      "outputs": [
        {
          "output_type": "execute_result",
          "data": {
            "text/plain": [
              "0    1008718\n",
              "1      16434\n",
              "Name: ICU, dtype: int64"
            ]
          },
          "metadata": {},
          "execution_count": 352
        }
      ]
    },
    {
      "cell_type": "code",
      "source": [
        "plot_col_deaths_hist('ICU')"
      ],
      "metadata": {
        "id": "8f-Z42hAJPib",
        "colab": {
          "base_uri": "https://localhost:8080/",
          "height": 265
        },
        "outputId": "78b9879a-c6ae-47c0-dc33-88de9f3eb85f"
      },
      "execution_count": 353,
      "outputs": [
        {
          "output_type": "display_data",
          "data": {
            "text/plain": [
              "<Figure size 432x288 with 1 Axes>"
            ],
            "image/png": "[encoded data removed]"
          },
          "metadata": {
            "needs_background": "light"
          }
        }
      ]
    },
    {
      "cell_type": "markdown",
      "source": [
        "**Observation:** Patients that had been admitted to an Intensive Care Unit mostly died."
      ],
      "metadata": {
        "id": "1FGsHLO2J1Z_"
      }
    },
    {
      "cell_type": "markdown",
      "source": [
        "## Splitting the data"
      ],
      "metadata": {
        "id": "7TcXj6ceYN9l"
      }
    },
    {
      "cell_type": "code",
      "source": [
        "X_cols = [col for col in df.columns if col != 'DIED']"
      ],
      "metadata": {
        "id": "FBbg9GhIYTbb"
      },
      "execution_count": 354,
      "outputs": []
    },
    {
      "cell_type": "code",
      "source": [
        "df = df.reset_index()\n",
        "X, y = df[X_cols].to_numpy(), df['DIED'].to_numpy()\n",
        "print(X.shape)\n",
        "print(y.shape)"
      ],
      "metadata": {
        "id": "Q_mKzq1XYefa",
        "colab": {
          "base_uri": "https://localhost:8080/"
        },
        "outputId": "ae3619f1-1ee3-4967-de84-784b0784a438"
      },
      "execution_count": 355,
      "outputs": [
        {
          "output_type": "stream",
          "name": "stdout",
          "text": [
            "(1025152, 30)\n",
            "(1025152,)\n"
          ]
        }
      ]
    },
    {
      "cell_type": "code",
      "source": [
        "X_train, X_rest, y_train, y_rest = train_test_split(X, y, test_size=0.2, random_state=75)\n",
        "X_test, X_valid, y_test, y_valid = train_test_split(X_rest, y_rest, test_size=0.5, random_state=75)"
      ],
      "metadata": {
        "id": "IDARM77xZSmK"
      },
      "execution_count": 356,
      "outputs": []
    },
    {
      "cell_type": "code",
      "source": [
        "print(X_train.shape, y_train.shape)\n",
        "print(X_test.shape, y_test.shape)\n",
        "print(X_valid.shape, y_valid.shape)"
      ],
      "metadata": {
        "id": "CCKZXsvgaVkk",
        "colab": {
          "base_uri": "https://localhost:8080/"
        },
        "outputId": "03a6c166-fb1e-4eb0-d632-1d25a7537f5f"
      },
      "execution_count": 357,
      "outputs": [
        {
          "output_type": "stream",
          "name": "stdout",
          "text": [
            "(820121, 30) (820121,)\n",
            "(102515, 30) (102515,)\n",
            "(102516, 30) (102516,)\n"
          ]
        }
      ]
    },
    {
      "cell_type": "code",
      "source": [
        "df.isnull().any()"
      ],
      "metadata": {
        "colab": {
          "base_uri": "https://localhost:8080/"
        },
        "id": "tvzSx8W1k5UM",
        "outputId": "3a0dabc9-577e-41f5-92c9-83e4582aed28"
      },
      "execution_count": 358,
      "outputs": [
        {
          "output_type": "execute_result",
          "data": {
            "text/plain": [
              "index                   False\n",
              "USMER                   False\n",
              "INTUBED                 False\n",
              "PNEUMONIA               False\n",
              "AGE                     False\n",
              "DIABETES                False\n",
              "COPD                    False\n",
              "INMSUPR                 False\n",
              "HIPERTENSION            False\n",
              "OTHER_DISEASE           False\n",
              "CARDIOVASCULAR          False\n",
              "OBESITY                 False\n",
              "RENAL_CHRONIC           False\n",
              "TOBACCO                 False\n",
              "CLASIFFICATION_FINAL    False\n",
              "ICU                     False\n",
              "DIED                    False\n",
              "IS_FEMALE               False\n",
              "HOSPITALIZATION         False\n",
              "MEDICAL_UNIT_1          False\n",
              "MEDICAL_UNIT_2          False\n",
              "MEDICAL_UNIT_3          False\n",
              "MEDICAL_UNIT_4          False\n",
              "MEDICAL_UNIT_5          False\n",
              "MEDICAL_UNIT_6          False\n",
              "MEDICAL_UNIT_7          False\n",
              "MEDICAL_UNIT_8          False\n",
              "MEDICAL_UNIT_9          False\n",
              "MEDICAL_UNIT_10         False\n",
              "MEDICAL_UNIT_11         False\n",
              "MEDICAL_UNIT_12         False\n",
              "MEDICAL_UNIT_13         False\n",
              "dtype: bool"
            ]
          },
          "metadata": {},
          "execution_count": 358
        }
      ]
    },
    {
      "cell_type": "markdown",
      "source": [
        "## Model evaluation helpers"
      ],
      "metadata": {
        "id": "r-oyVms5cgTV"
      }
    },
    {
      "cell_type": "code",
      "source": [
        "def eval_model(evaluator, xs, ys):\n",
        "  y_pred = evaluator.predict(xs)\n",
        "  precission, recall, fscore, _ = precision_recall_fscore_support(y_true=ys, y_pred=y_pred, average='macro')\n",
        "  score = model.score(xs, ys)\n",
        "  print(f'precission: {precission}')\n",
        "  print(f'recall    : {recall}')\n",
        "  print(f'fscore    : {fscore}')\n",
        "  print(f'score     : {score}')"
      ],
      "metadata": {
        "id": "Z3La0EbecjR9"
      },
      "execution_count": 359,
      "outputs": []
    },
    {
      "cell_type": "markdown",
      "source": [
        "## Models"
      ],
      "metadata": {
        "id": "B7cBoeN-bRBk"
      }
    },
    {
      "cell_type": "markdown",
      "source": [
        "### Logistic Regression"
      ],
      "metadata": {
        "id": "zoTPVMZpbTa1"
      }
    },
    {
      "cell_type": "code",
      "source": [
        "model = Pipeline([('scaler', StandardScaler()), \n",
        "                  ('logistic_regression', LogisticRegression())])\n",
        "model = model.fit(X_train, y_train)\n",
        "eval_model(model, X_test, y_test)"
      ],
      "metadata": {
        "id": "uzuaRNw4bSaB",
        "colab": {
          "base_uri": "https://localhost:8080/"
        },
        "outputId": "550ced94-7317-432f-c5c0-7798631adce2"
      },
      "execution_count": 360,
      "outputs": [
        {
          "output_type": "stream",
          "name": "stdout",
          "text": [
            "precission: 0.8386514748780198\n",
            "recall    : 0.7544618174860582\n",
            "fscore    : 0.7893377450742247\n",
            "score     : 0.9497439399112325\n"
          ]
        }
      ]
    },
    {
      "cell_type": "markdown",
      "source": [
        "### Ridge Classifier"
      ],
      "metadata": {
        "id": "4f8m8Q2sg3mV"
      }
    },
    {
      "cell_type": "code",
      "source": [
        "for alpha in [1e2, 1e3, 1e4, 1e5, 1e6]:\n",
        "  model = Pipeline([('scaler', StandardScaler()), \n",
        "                    ('ridge_classifier', RidgeClassifier(alpha=alpha))])\n",
        "  model = model.fit(X_train, y_train)\n",
        "  print(f'Alpha = {alpha}')\n",
        "  eval_model(model, X_valid, y_valid)\n",
        "  print()"
      ],
      "metadata": {
        "id": "9VfbSuhAhKhL",
        "colab": {
          "base_uri": "https://localhost:8080/"
        },
        "outputId": "cd152e80-de77-4113-dfc1-94686bc067c3"
      },
      "execution_count": 361,
      "outputs": [
        {
          "output_type": "stream",
          "name": "stdout",
          "text": [
            "Alpha = 100.0\n",
            "precission: 0.8643334439659671\n",
            "recall    : 0.6682746601462055\n",
            "fscore    : 0.7242407338649692\n",
            "score     : 0.9456182449568847\n",
            "\n",
            "Alpha = 1000.0\n",
            "precission: 0.8643334439659671\n",
            "recall    : 0.6682746601462055\n",
            "fscore    : 0.7242407338649692\n",
            "score     : 0.9456182449568847\n",
            "\n",
            "Alpha = 10000.0\n",
            "precission: 0.8643334439659671\n",
            "recall    : 0.6682746601462055\n",
            "fscore    : 0.7242407338649692\n",
            "score     : 0.9456182449568847\n",
            "\n",
            "Alpha = 100000.0\n",
            "precission: 0.8652882383759937\n",
            "recall    : 0.6683167100805024\n",
            "fscore    : 0.7244410351128017\n",
            "score     : 0.9456962815560498\n",
            "\n",
            "Alpha = 1000000.0\n",
            "precission: 0.884722522773983\n",
            "recall    : 0.600500805130934\n",
            "fscore    : 0.648044925819943\n",
            "score     : 0.9395704085215967\n",
            "\n"
          ]
        }
      ]
    },
    {
      "cell_type": "code",
      "source": [
        "model = Pipeline([('scaler', StandardScaler()), \n",
        "                  ('ridge_classifier', RidgeClassifier(alpha=1e5))])\n",
        "model = model.fit(X_train, y_train)\n",
        "eval_model(model, X_test, y_test)"
      ],
      "metadata": {
        "id": "gUU7AcvljVfm",
        "colab": {
          "base_uri": "https://localhost:8080/"
        },
        "outputId": "f7f57ffc-d6a3-498a-f881-d07a9510bc37"
      },
      "execution_count": 362,
      "outputs": [
        {
          "output_type": "stream",
          "name": "stdout",
          "text": [
            "precission: 0.8730288430030477\n",
            "recall    : 0.6735073939833626\n",
            "fscore    : 0.7307776432918716\n",
            "score     : 0.9459103545822563\n"
          ]
        }
      ]
    },
    {
      "cell_type": "markdown",
      "source": [
        "## Gaussian Naive Bayes"
      ],
      "metadata": {
        "id": "scTlkcdSlLEO"
      }
    },
    {
      "cell_type": "code",
      "source": [
        "model = Pipeline([('scaler', StandardScaler()), \n",
        "                  ('gnb', GaussianNB())])\n",
        "model = model.fit(X_train, y_train)\n",
        "eval_model(model, X_test, y_test)"
      ],
      "metadata": {
        "id": "tc1st4cwlNVM",
        "colab": {
          "base_uri": "https://localhost:8080/"
        },
        "outputId": "d457590e-b534-474a-f133-f1f738e5c767"
      },
      "execution_count": 363,
      "outputs": [
        {
          "output_type": "stream",
          "name": "stdout",
          "text": [
            "precission: 0.6753230470830898\n",
            "recall    : 0.8409860384697304\n",
            "fscore    : 0.7190678879320676\n",
            "score     : 0.8855289469833683\n"
          ]
        }
      ]
    },
    {
      "cell_type": "markdown",
      "source": [
        "## Bernoulli Naive Bayes"
      ],
      "metadata": {
        "id": "wcN8x1P0ltSp"
      }
    },
    {
      "cell_type": "code",
      "source": [
        "model = Pipeline([('scaler', StandardScaler()), \n",
        "                  ('bernoulli_nb', BernoulliNB())])\n",
        "model = model.fit(X_train, y_train)\n",
        "eval_model(model, X_test, y_test)"
      ],
      "metadata": {
        "id": "9jhAcbR0lk9b",
        "colab": {
          "base_uri": "https://localhost:8080/"
        },
        "outputId": "8dd95f00-d9b9-4d11-fc5d-ca517a374186"
      },
      "execution_count": 364,
      "outputs": [
        {
          "output_type": "stream",
          "name": "stdout",
          "text": [
            "precission: 0.7315293288529006\n",
            "recall    : 0.8654500832503975\n",
            "fscore    : 0.7781619949236857\n",
            "score     : 0.9216797541823147\n"
          ]
        }
      ]
    },
    {
      "cell_type": "markdown",
      "source": [
        "## Decision Tree"
      ],
      "metadata": {
        "id": "vd1zGSu6jTqZ"
      }
    },
    {
      "cell_type": "code",
      "source": [
        "model = Pipeline([('scaler', StandardScaler()), \n",
        "                  ('decision_tree', DecisionTreeClassifier())])\n",
        "model = model.fit(X_train, y_train)\n",
        "eval_model(model, X_test, y_test)"
      ],
      "metadata": {
        "id": "E1JOaE13V8mZ",
        "colab": {
          "base_uri": "https://localhost:8080/"
        },
        "outputId": "2558340f-ba04-4cce-873d-566870e87024"
      },
      "execution_count": 367,
      "outputs": [
        {
          "output_type": "stream",
          "name": "stdout",
          "text": [
            "precission: 0.7889135411828697\n",
            "recall    : 0.7399268051726879\n",
            "fscore    : 0.7616097185162753\n",
            "score     : 0.9406135687460372\n"
          ]
        }
      ]
    },
    {
      "cell_type": "markdown",
      "source": [
        "## Random Forest"
      ],
      "metadata": {
        "id": "MDPNoF6in9k6"
      }
    },
    {
      "cell_type": "code",
      "source": [
        "model = Pipeline([('scaler', StandardScaler()), \n",
        "                  ('random_forest', RandomForestClassifier(n_estimators=100))])\n",
        "model = model.fit(X_train, y_train)\n",
        "eval_model(model, X_test, y_test)"
      ],
      "metadata": {
        "colab": {
          "base_uri": "https://localhost:8080/"
        },
        "id": "2z1nfrjmn675",
        "outputId": "f596693a-27bf-4183-d9e4-6c53d9fce242"
      },
      "execution_count": 369,
      "outputs": [
        {
          "output_type": "stream",
          "name": "stdout",
          "text": [
            "precission: 0.8055438189547837\n",
            "recall    : 0.7568582539960381\n",
            "fscore    : 0.7786065698141142\n",
            "score     : 0.9445447007754962\n"
          ]
        }
      ]
    },
    {
      "cell_type": "markdown",
      "source": [
        "## Gradient Boosting"
      ],
      "metadata": {
        "id": "lB4IK9ZJpL8j"
      }
    },
    {
      "cell_type": "code",
      "source": [
        "model = Pipeline([('scaler', StandardScaler()), \n",
        "                  ('gradient_boost', GradientBoostingClassifier(n_estimators=100))])\n",
        "model = model.fit(X_train, y_train)\n",
        "eval_model(model, X_test, y_test)"
      ],
      "metadata": {
        "colab": {
          "base_uri": "https://localhost:8080/"
        },
        "id": "3s0nMZ_dpLgr",
        "outputId": "f6e56a8a-b7f0-4939-83ae-f588c3d2db3e"
      },
      "execution_count": 371,
      "outputs": [
        {
          "output_type": "stream",
          "name": "stdout",
          "text": [
            "precission: 0.8455935447512031\n",
            "recall    : 0.766873243455906\n",
            "fscore    : 0.8001246389196318\n",
            "score     : 0.9517631566112277\n"
          ]
        }
      ]
    }
  ],
  "metadata": {
    "colab": {
      "provenance": [],
      "authorship_tag": "ABX9TyNKlBt6iPrJ3NdyDjTlqlTf"
    },
    "kernelspec": {
      "display_name": "Python 3",
      "name": "python3"
    },
    "language_info": {
      "name": "python"
    }
  },
  "nbformat": 4,
  "nbformat_minor": 0
}